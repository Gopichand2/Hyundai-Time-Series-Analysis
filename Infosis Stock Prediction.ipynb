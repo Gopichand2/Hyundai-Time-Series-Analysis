{
 "cells": [
  {
   "cell_type": "code",
   "execution_count": 1,
   "id": "288dd3af",
   "metadata": {},
   "outputs": [],
   "source": [
    "import pandas as pd\n",
    "import numpy as np\n",
    "import matplotlib.pyplot as plt"
   ]
  },
  {
   "cell_type": "markdown",
   "id": "67b7de58",
   "metadata": {},
   "source": [
    "### NATIONAL STOCK EXCHANGE STOCKS OF THE INFOSIS"
   ]
  },
  {
   "cell_type": "code",
   "execution_count": 2,
   "id": "8440998e",
   "metadata": {},
   "outputs": [],
   "source": [
    "infosis= pd.read_csv('NSE-Prices.csv')"
   ]
  },
  {
   "cell_type": "code",
   "execution_count": 3,
   "id": "e6c1562d",
   "metadata": {},
   "outputs": [
    {
     "data": {
      "text/html": [
       "<div>\n",
       "<style scoped>\n",
       "    .dataframe tbody tr th:only-of-type {\n",
       "        vertical-align: middle;\n",
       "    }\n",
       "\n",
       "    .dataframe tbody tr th {\n",
       "        vertical-align: top;\n",
       "    }\n",
       "\n",
       "    .dataframe thead th {\n",
       "        text-align: right;\n",
       "    }\n",
       "</style>\n",
       "<table border=\"1\" class=\"dataframe\">\n",
       "  <thead>\n",
       "    <tr style=\"text-align: right;\">\n",
       "      <th></th>\n",
       "      <th>Price Date</th>\n",
       "      <th>Open Price</th>\n",
       "      <th>High Price</th>\n",
       "      <th>Low Price</th>\n",
       "      <th>Close Price</th>\n",
       "      <th>Trade Value</th>\n",
       "      <th>Number Of Trades</th>\n",
       "      <th>Traded Quantity</th>\n",
       "    </tr>\n",
       "  </thead>\n",
       "  <tbody>\n",
       "    <tr>\n",
       "      <th>0</th>\n",
       "      <td>11-08-2022</td>\n",
       "      <td>1630.0</td>\n",
       "      <td>1631.35</td>\n",
       "      <td>1616.00</td>\n",
       "      <td>1619.95</td>\n",
       "      <td>5.613034e+09</td>\n",
       "      <td>130406</td>\n",
       "      <td>3462090</td>\n",
       "    </tr>\n",
       "    <tr>\n",
       "      <th>1</th>\n",
       "      <td>10-08-2022</td>\n",
       "      <td>1621.2</td>\n",
       "      <td>1621.20</td>\n",
       "      <td>1588.10</td>\n",
       "      <td>1602.45</td>\n",
       "      <td>7.074914e+09</td>\n",
       "      <td>155928</td>\n",
       "      <td>4423829</td>\n",
       "    </tr>\n",
       "    <tr>\n",
       "      <th>2</th>\n",
       "      <td>08-08-2022</td>\n",
       "      <td>1617.0</td>\n",
       "      <td>1622.00</td>\n",
       "      <td>1596.00</td>\n",
       "      <td>1619.40</td>\n",
       "      <td>6.058239e+09</td>\n",
       "      <td>169613</td>\n",
       "      <td>3763409</td>\n",
       "    </tr>\n",
       "    <tr>\n",
       "      <th>3</th>\n",
       "      <td>05-08-2022</td>\n",
       "      <td>1608.4</td>\n",
       "      <td>1625.70</td>\n",
       "      <td>1602.30</td>\n",
       "      <td>1616.65</td>\n",
       "      <td>8.667508e+09</td>\n",
       "      <td>175709</td>\n",
       "      <td>5361971</td>\n",
       "    </tr>\n",
       "    <tr>\n",
       "      <th>4</th>\n",
       "      <td>04-08-2022</td>\n",
       "      <td>1587.5</td>\n",
       "      <td>1603.85</td>\n",
       "      <td>1574.95</td>\n",
       "      <td>1599.90</td>\n",
       "      <td>1.179737e+10</td>\n",
       "      <td>237197</td>\n",
       "      <td>7402209</td>\n",
       "    </tr>\n",
       "    <tr>\n",
       "      <th>...</th>\n",
       "      <td>...</td>\n",
       "      <td>...</td>\n",
       "      <td>...</td>\n",
       "      <td>...</td>\n",
       "      <td>...</td>\n",
       "      <td>...</td>\n",
       "      <td>...</td>\n",
       "      <td>...</td>\n",
       "    </tr>\n",
       "    <tr>\n",
       "      <th>1487</th>\n",
       "      <td>10-08-2016</td>\n",
       "      <td>1076.0</td>\n",
       "      <td>1087.90</td>\n",
       "      <td>1075.20</td>\n",
       "      <td>1082.35</td>\n",
       "      <td>3.013968e+09</td>\n",
       "      <td>72781</td>\n",
       "      <td>2788227</td>\n",
       "    </tr>\n",
       "    <tr>\n",
       "      <th>1488</th>\n",
       "      <td>09-08-2016</td>\n",
       "      <td>1077.0</td>\n",
       "      <td>1084.50</td>\n",
       "      <td>1071.50</td>\n",
       "      <td>1083.40</td>\n",
       "      <td>3.883366e+09</td>\n",
       "      <td>79692</td>\n",
       "      <td>3596332</td>\n",
       "    </tr>\n",
       "    <tr>\n",
       "      <th>1489</th>\n",
       "      <td>08-08-2016</td>\n",
       "      <td>1069.0</td>\n",
       "      <td>1081.00</td>\n",
       "      <td>1062.55</td>\n",
       "      <td>1078.70</td>\n",
       "      <td>2.495375e+09</td>\n",
       "      <td>86035</td>\n",
       "      <td>2321532</td>\n",
       "    </tr>\n",
       "    <tr>\n",
       "      <th>1490</th>\n",
       "      <td>05-08-2016</td>\n",
       "      <td>1072.0</td>\n",
       "      <td>1073.45</td>\n",
       "      <td>1060.00</td>\n",
       "      <td>1068.00</td>\n",
       "      <td>2.992534e+09</td>\n",
       "      <td>98969</td>\n",
       "      <td>2804984</td>\n",
       "    </tr>\n",
       "    <tr>\n",
       "      <th>1491</th>\n",
       "      <td>04-08-2016</td>\n",
       "      <td>1086.4</td>\n",
       "      <td>1086.90</td>\n",
       "      <td>1070.05</td>\n",
       "      <td>1071.80</td>\n",
       "      <td>2.277332e+09</td>\n",
       "      <td>64592</td>\n",
       "      <td>2118639</td>\n",
       "    </tr>\n",
       "  </tbody>\n",
       "</table>\n",
       "<p>1492 rows × 8 columns</p>\n",
       "</div>"
      ],
      "text/plain": [
       "      Price Date  Open Price  High Price  Low Price  Close Price  \\\n",
       "0     11-08-2022      1630.0     1631.35    1616.00      1619.95   \n",
       "1     10-08-2022      1621.2     1621.20    1588.10      1602.45   \n",
       "2     08-08-2022      1617.0     1622.00    1596.00      1619.40   \n",
       "3     05-08-2022      1608.4     1625.70    1602.30      1616.65   \n",
       "4     04-08-2022      1587.5     1603.85    1574.95      1599.90   \n",
       "...          ...         ...         ...        ...          ...   \n",
       "1487  10-08-2016      1076.0     1087.90    1075.20      1082.35   \n",
       "1488  09-08-2016      1077.0     1084.50    1071.50      1083.40   \n",
       "1489  08-08-2016      1069.0     1081.00    1062.55      1078.70   \n",
       "1490  05-08-2016      1072.0     1073.45    1060.00      1068.00   \n",
       "1491  04-08-2016      1086.4     1086.90    1070.05      1071.80   \n",
       "\n",
       "       Trade Value  Number Of Trades  Traded Quantity  \n",
       "0     5.613034e+09            130406          3462090  \n",
       "1     7.074914e+09            155928          4423829  \n",
       "2     6.058239e+09            169613          3763409  \n",
       "3     8.667508e+09            175709          5361971  \n",
       "4     1.179737e+10            237197          7402209  \n",
       "...            ...               ...              ...  \n",
       "1487  3.013968e+09             72781          2788227  \n",
       "1488  3.883366e+09             79692          3596332  \n",
       "1489  2.495375e+09             86035          2321532  \n",
       "1490  2.992534e+09             98969          2804984  \n",
       "1491  2.277332e+09             64592          2118639  \n",
       "\n",
       "[1492 rows x 8 columns]"
      ]
     },
     "execution_count": 3,
     "metadata": {},
     "output_type": "execute_result"
    }
   ],
   "source": [
    "infosis\n"
   ]
  },
  {
   "cell_type": "code",
   "execution_count": 4,
   "id": "36bb5e67",
   "metadata": {},
   "outputs": [
    {
     "data": {
      "text/plain": [
       "Price Date          0\n",
       "Open Price          0\n",
       "High Price          0\n",
       "Low Price           0\n",
       "Close Price         0\n",
       "Trade Value         0\n",
       "Number Of Trades    0\n",
       "Traded Quantity     0\n",
       "dtype: int64"
      ]
     },
     "execution_count": 4,
     "metadata": {},
     "output_type": "execute_result"
    }
   ],
   "source": [
    "infosis.isnull().sum()"
   ]
  },
  {
   "cell_type": "code",
   "execution_count": 5,
   "id": "6b3e4e62",
   "metadata": {},
   "outputs": [
    {
     "data": {
      "text/plain": [
       "0"
      ]
     },
     "execution_count": 5,
     "metadata": {},
     "output_type": "execute_result"
    }
   ],
   "source": [
    "infosis.duplicated().sum()"
   ]
  },
  {
   "cell_type": "code",
   "execution_count": 6,
   "id": "a38095b6",
   "metadata": {},
   "outputs": [],
   "source": [
    "infos = pd.DataFrame(infosis)"
   ]
  },
  {
   "cell_type": "code",
   "execution_count": 7,
   "id": "2b120287",
   "metadata": {},
   "outputs": [
    {
     "data": {
      "text/html": [
       "<div>\n",
       "<style scoped>\n",
       "    .dataframe tbody tr th:only-of-type {\n",
       "        vertical-align: middle;\n",
       "    }\n",
       "\n",
       "    .dataframe tbody tr th {\n",
       "        vertical-align: top;\n",
       "    }\n",
       "\n",
       "    .dataframe thead th {\n",
       "        text-align: right;\n",
       "    }\n",
       "</style>\n",
       "<table border=\"1\" class=\"dataframe\">\n",
       "  <thead>\n",
       "    <tr style=\"text-align: right;\">\n",
       "      <th></th>\n",
       "      <th>Price Date</th>\n",
       "      <th>Open Price</th>\n",
       "      <th>High Price</th>\n",
       "      <th>Low Price</th>\n",
       "      <th>Close Price</th>\n",
       "      <th>Trade Value</th>\n",
       "      <th>Number Of Trades</th>\n",
       "      <th>Traded Quantity</th>\n",
       "    </tr>\n",
       "  </thead>\n",
       "  <tbody>\n",
       "    <tr>\n",
       "      <th>0</th>\n",
       "      <td>11-08-2022</td>\n",
       "      <td>1630.0</td>\n",
       "      <td>1631.35</td>\n",
       "      <td>1616.00</td>\n",
       "      <td>1619.95</td>\n",
       "      <td>5.613034e+09</td>\n",
       "      <td>130406</td>\n",
       "      <td>3462090</td>\n",
       "    </tr>\n",
       "    <tr>\n",
       "      <th>1</th>\n",
       "      <td>10-08-2022</td>\n",
       "      <td>1621.2</td>\n",
       "      <td>1621.20</td>\n",
       "      <td>1588.10</td>\n",
       "      <td>1602.45</td>\n",
       "      <td>7.074914e+09</td>\n",
       "      <td>155928</td>\n",
       "      <td>4423829</td>\n",
       "    </tr>\n",
       "    <tr>\n",
       "      <th>2</th>\n",
       "      <td>08-08-2022</td>\n",
       "      <td>1617.0</td>\n",
       "      <td>1622.00</td>\n",
       "      <td>1596.00</td>\n",
       "      <td>1619.40</td>\n",
       "      <td>6.058239e+09</td>\n",
       "      <td>169613</td>\n",
       "      <td>3763409</td>\n",
       "    </tr>\n",
       "    <tr>\n",
       "      <th>3</th>\n",
       "      <td>05-08-2022</td>\n",
       "      <td>1608.4</td>\n",
       "      <td>1625.70</td>\n",
       "      <td>1602.30</td>\n",
       "      <td>1616.65</td>\n",
       "      <td>8.667508e+09</td>\n",
       "      <td>175709</td>\n",
       "      <td>5361971</td>\n",
       "    </tr>\n",
       "    <tr>\n",
       "      <th>4</th>\n",
       "      <td>04-08-2022</td>\n",
       "      <td>1587.5</td>\n",
       "      <td>1603.85</td>\n",
       "      <td>1574.95</td>\n",
       "      <td>1599.90</td>\n",
       "      <td>1.179737e+10</td>\n",
       "      <td>237197</td>\n",
       "      <td>7402209</td>\n",
       "    </tr>\n",
       "    <tr>\n",
       "      <th>...</th>\n",
       "      <td>...</td>\n",
       "      <td>...</td>\n",
       "      <td>...</td>\n",
       "      <td>...</td>\n",
       "      <td>...</td>\n",
       "      <td>...</td>\n",
       "      <td>...</td>\n",
       "      <td>...</td>\n",
       "    </tr>\n",
       "    <tr>\n",
       "      <th>1487</th>\n",
       "      <td>10-08-2016</td>\n",
       "      <td>1076.0</td>\n",
       "      <td>1087.90</td>\n",
       "      <td>1075.20</td>\n",
       "      <td>1082.35</td>\n",
       "      <td>3.013968e+09</td>\n",
       "      <td>72781</td>\n",
       "      <td>2788227</td>\n",
       "    </tr>\n",
       "    <tr>\n",
       "      <th>1488</th>\n",
       "      <td>09-08-2016</td>\n",
       "      <td>1077.0</td>\n",
       "      <td>1084.50</td>\n",
       "      <td>1071.50</td>\n",
       "      <td>1083.40</td>\n",
       "      <td>3.883366e+09</td>\n",
       "      <td>79692</td>\n",
       "      <td>3596332</td>\n",
       "    </tr>\n",
       "    <tr>\n",
       "      <th>1489</th>\n",
       "      <td>08-08-2016</td>\n",
       "      <td>1069.0</td>\n",
       "      <td>1081.00</td>\n",
       "      <td>1062.55</td>\n",
       "      <td>1078.70</td>\n",
       "      <td>2.495375e+09</td>\n",
       "      <td>86035</td>\n",
       "      <td>2321532</td>\n",
       "    </tr>\n",
       "    <tr>\n",
       "      <th>1490</th>\n",
       "      <td>05-08-2016</td>\n",
       "      <td>1072.0</td>\n",
       "      <td>1073.45</td>\n",
       "      <td>1060.00</td>\n",
       "      <td>1068.00</td>\n",
       "      <td>2.992534e+09</td>\n",
       "      <td>98969</td>\n",
       "      <td>2804984</td>\n",
       "    </tr>\n",
       "    <tr>\n",
       "      <th>1491</th>\n",
       "      <td>04-08-2016</td>\n",
       "      <td>1086.4</td>\n",
       "      <td>1086.90</td>\n",
       "      <td>1070.05</td>\n",
       "      <td>1071.80</td>\n",
       "      <td>2.277332e+09</td>\n",
       "      <td>64592</td>\n",
       "      <td>2118639</td>\n",
       "    </tr>\n",
       "  </tbody>\n",
       "</table>\n",
       "<p>1492 rows × 8 columns</p>\n",
       "</div>"
      ],
      "text/plain": [
       "      Price Date  Open Price  High Price  Low Price  Close Price  \\\n",
       "0     11-08-2022      1630.0     1631.35    1616.00      1619.95   \n",
       "1     10-08-2022      1621.2     1621.20    1588.10      1602.45   \n",
       "2     08-08-2022      1617.0     1622.00    1596.00      1619.40   \n",
       "3     05-08-2022      1608.4     1625.70    1602.30      1616.65   \n",
       "4     04-08-2022      1587.5     1603.85    1574.95      1599.90   \n",
       "...          ...         ...         ...        ...          ...   \n",
       "1487  10-08-2016      1076.0     1087.90    1075.20      1082.35   \n",
       "1488  09-08-2016      1077.0     1084.50    1071.50      1083.40   \n",
       "1489  08-08-2016      1069.0     1081.00    1062.55      1078.70   \n",
       "1490  05-08-2016      1072.0     1073.45    1060.00      1068.00   \n",
       "1491  04-08-2016      1086.4     1086.90    1070.05      1071.80   \n",
       "\n",
       "       Trade Value  Number Of Trades  Traded Quantity  \n",
       "0     5.613034e+09            130406          3462090  \n",
       "1     7.074914e+09            155928          4423829  \n",
       "2     6.058239e+09            169613          3763409  \n",
       "3     8.667508e+09            175709          5361971  \n",
       "4     1.179737e+10            237197          7402209  \n",
       "...            ...               ...              ...  \n",
       "1487  3.013968e+09             72781          2788227  \n",
       "1488  3.883366e+09             79692          3596332  \n",
       "1489  2.495375e+09             86035          2321532  \n",
       "1490  2.992534e+09             98969          2804984  \n",
       "1491  2.277332e+09             64592          2118639  \n",
       "\n",
       "[1492 rows x 8 columns]"
      ]
     },
     "execution_count": 7,
     "metadata": {},
     "output_type": "execute_result"
    }
   ],
   "source": [
    "infos"
   ]
  },
  {
   "cell_type": "code",
   "execution_count": 8,
   "id": "eef1d253",
   "metadata": {},
   "outputs": [],
   "source": [
    "from sklearn.preprocessing import MinMaxScaler\n",
    "from sklearn.metrics import r2_score\n",
    "from keras.models import Sequential\n",
    "from keras.layers import Dense\n",
    "from keras.callbacks import EarlyStopping\n",
    "from keras.optimizers import Adam\n",
    "from keras.layers import LSTM\n",
    "from keras.layers import Dense, Activation, Embedding, Dropout, TimeDistributed,Input"
   ]
  },
  {
   "cell_type": "markdown",
   "id": "6f92af30",
   "metadata": {},
   "source": [
    "## Dividing data into 2 data parts which as test data and train data"
   ]
  },
  {
   "cell_type": "code",
   "execution_count": 9,
   "id": "1a98d09d",
   "metadata": {},
   "outputs": [
    {
     "data": {
      "text/plain": [
       "Price Date           object\n",
       "Open Price          float64\n",
       "High Price          float64\n",
       "Low Price           float64\n",
       "Close Price         float64\n",
       "Trade Value         float64\n",
       "Number Of Trades      int64\n",
       "Traded Quantity       int64\n",
       "dtype: object"
      ]
     },
     "execution_count": 9,
     "metadata": {},
     "output_type": "execute_result"
    }
   ],
   "source": [
    "infosis.dtypes"
   ]
  },
  {
   "cell_type": "code",
   "execution_count": 10,
   "id": "563b2259",
   "metadata": {},
   "outputs": [],
   "source": [
    "from sklearn.preprocessing import LabelEncoder"
   ]
  },
  {
   "cell_type": "code",
   "execution_count": 11,
   "id": "b153dc5c",
   "metadata": {},
   "outputs": [],
   "source": [
    "lb = LabelEncoder()"
   ]
  },
  {
   "cell_type": "code",
   "execution_count": 12,
   "id": "8e7ff902",
   "metadata": {},
   "outputs": [],
   "source": [
    "infosis[\"Price Date\"] = lb.fit_transform(infosis[\"Price Date\"])\n",
    "infosis[\"Open Price\"] = lb.fit_transform(infosis[\"Open Price\"])\n",
    "infosis[\"High Price\"] = lb.fit_transform(infosis[\"High Price\"])\n",
    "infosis[\"Low Price\"] = lb.fit_transform(infosis[\"Low Price\"])\n",
    "infosis[\"Close Price\"] = lb.fit_transform(infosis[\"Close Price\"])\n",
    "infosis[\"Trade Value\"] = lb.fit_transform(infosis[\"Trade Value\"])\n"
   ]
  },
  {
   "cell_type": "code",
   "execution_count": 13,
   "id": "012ae248",
   "metadata": {},
   "outputs": [
    {
     "data": {
      "text/plain": [
       "Price Date          int32\n",
       "Open Price          int64\n",
       "High Price          int64\n",
       "Low Price           int64\n",
       "Close Price         int64\n",
       "Trade Value         int64\n",
       "Number Of Trades    int64\n",
       "Traded Quantity     int64\n",
       "dtype: object"
      ]
     },
     "execution_count": 13,
     "metadata": {},
     "output_type": "execute_result"
    }
   ],
   "source": [
    "infosis.dtypes"
   ]
  },
  {
   "cell_type": "code",
   "execution_count": 14,
   "id": "3c38a251",
   "metadata": {},
   "outputs": [],
   "source": [
    "###df1 = infosis.iloc[:,5]"
   ]
  },
  {
   "cell_type": "code",
   "execution_count": 15,
   "id": "1ba7cb98",
   "metadata": {},
   "outputs": [],
   "source": [
    "###df1.head"
   ]
  },
  {
   "cell_type": "code",
   "execution_count": 16,
   "id": "d50b19e2",
   "metadata": {},
   "outputs": [
    {
     "data": {
      "text/plain": [
       "[<matplotlib.lines.Line2D at 0x1f41d32e740>]"
      ]
     },
     "execution_count": 16,
     "metadata": {},
     "output_type": "execute_result"
    },
    {
     "data": {
      "image/png": "[encoded data removed]",
      "text/plain": [
       "<Figure size 720x432 with 1 Axes>"
      ]
     },
     "metadata": {
      "needs_background": "light"
     },
     "output_type": "display_data"
    }
   ],
   "source": [
    "data = infosis.iloc[:,5].values\n",
    "plt.figure(figsize=(10, 6))\n",
    "plt.xlabel('Days')\n",
    "plt.ylabel('Turnover (in crores)')\n",
    "plt.plot(data)"
   ]
  },
  {
   "cell_type": "code",
   "execution_count": 17,
   "id": "6d19d8ab",
   "metadata": {},
   "outputs": [],
   "source": [
    "infosis['Price Date']= pd.to_datetime(infosis['Price Date'])"
   ]
  },
  {
   "cell_type": "code",
   "execution_count": 18,
   "id": "9ab93739",
   "metadata": {},
   "outputs": [
    {
     "data": {
      "text/plain": [
       "1492"
      ]
     },
     "execution_count": 18,
     "metadata": {},
     "output_type": "execute_result"
    }
   ],
   "source": [
    "len(infosis)"
   ]
  },
  {
   "cell_type": "code",
   "execution_count": 19,
   "id": "b0335fc9",
   "metadata": {},
   "outputs": [
    {
     "name": "stdout",
     "output_type": "stream",
     "text": [
      "1193.6000000000001\n",
      "294\n"
     ]
    }
   ],
   "source": [
    "print(1492*0.8)\n",
    "print(1492-1198)\n"
   ]
  },
  {
   "cell_type": "code",
   "execution_count": 20,
   "id": "5319f12c",
   "metadata": {},
   "outputs": [
    {
     "name": "stdout",
     "output_type": "stream",
     "text": [
      "Empty DataFrame\n",
      "Columns: [Price Date, Open Price, High Price, Low Price, Close Price, Trade Value, Number Of Trades, Traded Quantity]\n",
      "Index: []\n",
      "--------------------------------------------\n"
     ]
    }
   ],
   "source": [
    "mask = (infosis['Price Date'] == '2019-4-18')\n",
    "print(infosis.loc[mask])     # index for the date 18-Apr-2019\n",
    "print('--------------------------------------------')\n",
    "train = data[:1193]\n",
    "test = data[294:]"
   ]
  },
  {
   "cell_type": "code",
   "execution_count": 21,
   "id": "a064378d",
   "metadata": {},
   "outputs": [],
   "source": [
    "sc = MinMaxScaler(feature_range = (0, 1))\n",
    "train = sc.fit_transform(train.reshape(-1,1))\n",
    "test = sc.transform(test.reshape(-1,1))"
   ]
  },
  {
   "cell_type": "code",
   "execution_count": 22,
   "id": "6a79ee5f",
   "metadata": {},
   "outputs": [],
   "source": [
    "X_train = []\n",
    "y_train = []\n",
    "for i in range(30, train.shape[0]):\n",
    "    X_train.append(train[i-10:i, 0])\n",
    "    y_train.append(train[i, 0])\n",
    "X_train, y_train = np.array(X_train), np.array(y_train)"
   ]
  },
  {
   "cell_type": "code",
   "execution_count": 23,
   "id": "630fef75",
   "metadata": {},
   "outputs": [
    {
     "name": "stdout",
     "output_type": "stream",
     "text": [
      "(1163, 10) (1163,)\n",
      "[[0.63959732 0.57785235 0.58590604 ... 0.59865772 0.57315436 0.90939597]\n",
      " [0.57785235 0.58590604 0.4442953  ... 0.57315436 0.90939597 0.62214765]\n",
      " [0.58590604 0.4442953  0.38053691 ... 0.90939597 0.62214765 0.54295302]\n",
      " ...\n",
      " [0.53624161 0.0590604  0.01342282 ... 0.26442953 0.94563758 0.54697987]\n",
      " [0.0590604  0.01342282 0.03892617 ... 0.94563758 0.54697987 0.57248322]\n",
      " [0.01342282 0.03892617 0.08255034 ... 0.54697987 0.57248322 0.28724832]]\n",
      "[0.62214765 0.54295302]\n"
     ]
    }
   ],
   "source": [
    "print(X_train.shape, y_train.shape)\n",
    "print(X_train)\n",
    "print(y_train[:2])"
   ]
  },
  {
   "cell_type": "code",
   "execution_count": 24,
   "id": "d6dff867",
   "metadata": {},
   "outputs": [
    {
     "name": "stdout",
     "output_type": "stream",
     "text": [
      "Epoch 1/45\n",
      "291/291 [==============================] - 3s 5ms/step - loss: 0.0505\n",
      "Epoch 2/45\n",
      "291/291 [==============================] - 1s 5ms/step - loss: 0.0373\n",
      "Epoch 3/45\n",
      "291/291 [==============================] - 1s 5ms/step - loss: 0.0372\n",
      "Epoch 4/45\n",
      "291/291 [==============================] - 1s 5ms/step - loss: 0.0361\n",
      "Epoch 5/45\n",
      "291/291 [==============================] - 1s 5ms/step - loss: 0.0365\n",
      "Epoch 6/45\n",
      "291/291 [==============================] - 1s 5ms/step - loss: 0.0361\n",
      "Epoch 7/45\n",
      "291/291 [==============================] - 1s 5ms/step - loss: 0.0360\n",
      "Epoch 8/45\n",
      "291/291 [==============================] - 1s 5ms/step - loss: 0.0359\n",
      "Epoch 9/45\n",
      "291/291 [==============================] - 1s 5ms/step - loss: 0.0362\n",
      "Epoch 10/45\n",
      "291/291 [==============================] - 2s 5ms/step - loss: 0.0359\n",
      "Epoch 11/45\n",
      "291/291 [==============================] - 1s 5ms/step - loss: 0.0364\n",
      "Epoch 12/45\n",
      "291/291 [==============================] - 1s 5ms/step - loss: 0.0353\n",
      "Epoch 13/45\n",
      "291/291 [==============================] - 1s 5ms/step - loss: 0.0359\n",
      "Epoch 14/45\n",
      "291/291 [==============================] - 1s 5ms/step - loss: 0.0360\n",
      "Epoch 15/45\n",
      "291/291 [==============================] - 1s 5ms/step - loss: 0.0361\n",
      "Epoch 16/45\n",
      "291/291 [==============================] - 1s 5ms/step - loss: 0.0357\n",
      "Epoch 17/45\n",
      "291/291 [==============================] - 1s 5ms/step - loss: 0.0356\n",
      "Epoch 18/45\n",
      "291/291 [==============================] - 1s 5ms/step - loss: 0.0357\n",
      "Epoch 19/45\n",
      "291/291 [==============================] - 1s 5ms/step - loss: 0.0356\n",
      "Epoch 20/45\n",
      "291/291 [==============================] - 1s 5ms/step - loss: 0.0354\n",
      "Epoch 21/45\n",
      "291/291 [==============================] - 1s 5ms/step - loss: 0.0363\n",
      "Epoch 22/45\n",
      "291/291 [==============================] - 1s 5ms/step - loss: 0.0357\n",
      "Epoch 23/45\n",
      "291/291 [==============================] - 1s 5ms/step - loss: 0.0357\n",
      "Epoch 24/45\n",
      "291/291 [==============================] - 1s 4ms/step - loss: 0.0360\n",
      "Epoch 25/45\n",
      "291/291 [==============================] - 1s 5ms/step - loss: 0.0357\n",
      "Epoch 26/45\n",
      "291/291 [==============================] - 1s 5ms/step - loss: 0.0357\n",
      "Epoch 27/45\n",
      "291/291 [==============================] - 1s 5ms/step - loss: 0.0355\n",
      "Epoch 28/45\n",
      "291/291 [==============================] - 1s 5ms/step - loss: 0.0350\n",
      "Epoch 29/45\n",
      "291/291 [==============================] - 1s 4ms/step - loss: 0.0358\n",
      "Epoch 30/45\n",
      "291/291 [==============================] - 1s 5ms/step - loss: 0.0358\n",
      "Epoch 31/45\n",
      "291/291 [==============================] - 1s 5ms/step - loss: 0.0357\n",
      "Epoch 32/45\n",
      "291/291 [==============================] - 1s 5ms/step - loss: 0.0356\n",
      "Epoch 33/45\n",
      "291/291 [==============================] - 1s 5ms/step - loss: 0.0354\n",
      "Epoch 34/45\n",
      "291/291 [==============================] - 1s 5ms/step - loss: 0.0351\n",
      "Epoch 35/45\n",
      "291/291 [==============================] - 1s 5ms/step - loss: 0.0356\n",
      "Epoch 36/45\n",
      "291/291 [==============================] - 1s 5ms/step - loss: 0.0350\n",
      "Epoch 37/45\n",
      "291/291 [==============================] - 1s 5ms/step - loss: 0.0355\n",
      "Epoch 38/45\n",
      "291/291 [==============================] - 1s 5ms/step - loss: 0.0355\n",
      "Epoch 39/45\n",
      "291/291 [==============================] - 1s 4ms/step - loss: 0.0353\n",
      "Epoch 40/45\n",
      "291/291 [==============================] - 1s 4ms/step - loss: 0.0349\n",
      "Epoch 41/45\n",
      "291/291 [==============================] - 1s 5ms/step - loss: 0.0352\n",
      "Epoch 42/45\n",
      "291/291 [==============================] - 1s 5ms/step - loss: 0.0354\n",
      "Epoch 43/45\n",
      "291/291 [==============================] - 1s 5ms/step - loss: 0.0353\n",
      "Epoch 44/45\n",
      "291/291 [==============================] - 1s 5ms/step - loss: 0.0363\n",
      "Epoch 45/45\n",
      "291/291 [==============================] - 1s 5ms/step - loss: 0.0356\n"
     ]
    },
    {
     "data": {
      "text/plain": [
       "<keras.callbacks.History at 0x1f420717520>"
      ]
     },
     "execution_count": 24,
     "metadata": {},
     "output_type": "execute_result"
    }
   ],
   "source": [
    "# Training LSTM model\n",
    "\n",
    "X_train = np.reshape(X_train, (X_train.shape[0], X_train.shape[1], 1))\n",
    "model = Sequential()\n",
    "# LSTM layer\n",
    "model.add(LSTM(16, input_shape=(X_train.shape[1], 1), activation='relu',kernel_initializer='lecun_uniform'))\n",
    "#  Dense layer\n",
    "model.add(Dense(8))\n",
    "model.add(Dense(4))\n",
    "model.add(Dense(2))\n",
    "model.add(Dense(1))\n",
    "model.compile(optimizer = 'adam', loss = 'mean_squared_error')\n",
    "\n",
    "model.fit(X_train, y_train, epochs = 45, batch_size = 4)"
   ]
  },
  {
   "cell_type": "code",
   "execution_count": 25,
   "id": "d9de3b90",
   "metadata": {},
   "outputs": [
    {
     "name": "stdout",
     "output_type": "stream",
     "text": [
      "(1168, 10)\n",
      "(1163, 10, 1)\n"
     ]
    }
   ],
   "source": [
    "X_test = []\n",
    "y_test = []\n",
    "\n",
    "for i in range(30, test.shape[0]):\n",
    "    X_test.append(test[i-10:i, 0])\n",
    "    y_test.append(test[i, 0])\n",
    "X_test, y_test = np.array(X_test), np.array(y_test)\n",
    "print(X_test.shape)\n",
    "X_test = np.reshape(X_test, (X_test.shape[0], X_test.shape[1], 1))\n",
    "print(X_train.shape)"
   ]
  },
  {
   "cell_type": "code",
   "execution_count": 26,
   "id": "4b7836bb",
   "metadata": {},
   "outputs": [
    {
     "name": "stdout",
     "output_type": "stream",
     "text": [
      "37/37 [==============================] - 0s 2ms/step\n"
     ]
    },
    {
     "data": {
      "image/png": "[encoded data removed]",
      "text/plain": [
       "<Figure size 432x288 with 1 Axes>"
      ]
     },
     "metadata": {
      "needs_background": "light"
     },
     "output_type": "display_data"
    }
   ],
   "source": [
    "predicted = model.predict(X_train)\n",
    "predicted = sc.inverse_transform(predicted)\n",
    "plt.plot(sc.inverse_transform(train[-175:]), color = 'blue', label = 'Turnover')\n",
    "plt.plot(predicted, color = 'green', label = 'Predicted Turnover')\n",
    "plt.title('NSE Turnover OF INFOSIS')\n",
    "plt.xlabel('Time')\n",
    "plt.ylabel('Turnover')\n",
    "plt.legend()\n",
    "plt.show()"
   ]
  },
  {
   "cell_type": "code",
   "execution_count": 27,
   "id": "2e8aa671",
   "metadata": {},
   "outputs": [],
   "source": [
    "y_test_dummies = pd.get_dummies(y_test).values\n"
   ]
  },
  {
   "cell_type": "code",
   "execution_count": 28,
   "id": "68d7d629",
   "metadata": {},
   "outputs": [],
   "source": [
    "model.save('InfosisStock.h5')"
   ]
  },
  {
   "cell_type": "code",
   "execution_count": null,
   "id": "78a766c4",
   "metadata": {},
   "outputs": [],
   "source": []
  },
  {
   "cell_type": "code",
   "execution_count": 39,
   "id": "52859fdb",
   "metadata": {},
   "outputs": [
    {
     "name": "stdout",
     "output_type": "stream",
     "text": [
      "0.03994079306721687\n"
     ]
    }
   ],
   "source": [
    "print(scores)"
   ]
  },
  {
   "cell_type": "code",
   "execution_count": 51,
   "id": "cb13c3e5",
   "metadata": {},
   "outputs": [
    {
     "data": {
      "text/plain": [
       "float"
      ]
     },
     "execution_count": 51,
     "metadata": {},
     "output_type": "execute_result"
    }
   ],
   "source": [
    "type(scores)"
   ]
  },
  {
   "cell_type": "code",
   "execution_count": 58,
   "id": "5f130f0f",
   "metadata": {},
   "outputs": [
    {
     "data": {
      "text/plain": [
       "numpy.ndarray"
      ]
     },
     "execution_count": 58,
     "metadata": {},
     "output_type": "execute_result"
    }
   ],
   "source": [
    "scores = np.array(scores, dtype='int')\n",
    "type(scores)"
   ]
  },
  {
   "cell_type": "code",
   "execution_count": 57,
   "id": "1e6f90f9",
   "metadata": {},
   "outputs": [
    {
     "name": "stdout",
     "output_type": "stream",
     "text": [
      "37/37 [==============================] - 0s 1ms/step - loss: 0.0399\n"
     ]
    },
    {
     "ename": "TypeError",
     "evalue": "'float' object is not subscriptable",
     "output_type": "error",
     "traceback": [
      "\u001b[1;31m---------------------------------------------------------------------------\u001b[0m",
      "\u001b[1;31mTypeError\u001b[0m                                 Traceback (most recent call last)",
      "Input \u001b[1;32mIn [57]\u001b[0m, in \u001b[0;36m<cell line: 6>\u001b[1;34m()\u001b[0m\n\u001b[0;32m      3\u001b[0m model \u001b[38;5;241m=\u001b[39m load_model(\u001b[38;5;124m'\u001b[39m\u001b[38;5;124mInfosisStock.h5\u001b[39m\u001b[38;5;124m'\u001b[39m)\n\u001b[0;32m      4\u001b[0m scores \u001b[38;5;241m=\u001b[39m model\u001b[38;5;241m.\u001b[39mevaluate(X_test, y_test)\n\u001b[1;32m----> 6\u001b[0m LSTM_accuracy \u001b[38;5;241m=\u001b[39m \u001b[43mscores\u001b[49m\u001b[43m[\u001b[49m\u001b[38;5;241;43m5\u001b[39;49m\u001b[43m]\u001b[49m\u001b[38;5;241m*\u001b[39m\u001b[38;5;241m100\u001b[39m\n",
      "\u001b[1;31mTypeError\u001b[0m: 'float' object is not subscriptable"
     ]
    }
   ],
   "source": [
    "from keras.models import load_model\n",
    "\n",
    "model = load_model('InfosisStock.h5')\n",
    "scores = model.evaluate(X_test, y_test)\n",
    "a\n",
    "LSTM_accuracy = scores[5]*100\n",
    "\n"
   ]
  },
  {
   "cell_type": "code",
   "execution_count": null,
   "id": "d1abd24d",
   "metadata": {},
   "outputs": [],
   "source": []
  },
  {
   "cell_type": "code",
   "execution_count": null,
   "id": "6ea7b4fc",
   "metadata": {},
   "outputs": [],
   "source": []
  }
 ],
 "metadata": {
  "kernelspec": {
   "display_name": "Python 3 (ipykernel)",
   "language": "python",
   "name": "python3"
  },
  "language_info": {
   "codemirror_mode": {
    "name": "ipython",
    "version": 3
   },
   "file_extension": ".py",
   "mimetype": "text/x-python",
   "name": "python",
   "nbconvert_exporter": "python",
   "pygments_lexer": "ipython3",
   "version": "3.10.4"
  }
 },
 "nbformat": 4,
 "nbformat_minor": 5
}
