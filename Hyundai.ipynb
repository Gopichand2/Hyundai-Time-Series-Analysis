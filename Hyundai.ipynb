{
 "cells": [
  {
   "cell_type": "code",
   "execution_count": 1,
   "id": "a6177553",
   "metadata": {},
   "outputs": [],
   "source": [
    "import pandas as pd\n",
    "import numpy as np\n",
    "import matplotlib.pyplot as plt"
   ]
  },
  {
   "cell_type": "code",
   "execution_count": null,
   "id": "8c383905",
   "metadata": {},
   "outputs": [],
   "source": []
  },
  {
   "cell_type": "code",
   "execution_count": 2,
   "id": "ac6f134c",
   "metadata": {},
   "outputs": [],
   "source": [
    "data = pd.read_csv('Hyundai_motor_company.csv')"
   ]
  },
  {
   "cell_type": "code",
   "execution_count": 3,
   "id": "36d4173d",
   "metadata": {},
   "outputs": [
    {
     "name": "stdout",
     "output_type": "stream",
     "text": [
      "Date         0\n",
      "Open         0\n",
      "High         0\n",
      "Low          0\n",
      "Close        0\n",
      "Adj Close    0\n",
      "Volume       0\n",
      "dtype: int64\n"
     ]
    }
   ],
   "source": [
    "print(data.isnull().sum())"
   ]
  },
  {
   "cell_type": "code",
   "execution_count": 4,
   "id": "ea63643b",
   "metadata": {},
   "outputs": [
    {
     "name": "stdout",
     "output_type": "stream",
     "text": [
      "0\n"
     ]
    }
   ],
   "source": [
    "print(data.duplicated().sum())"
   ]
  },
  {
   "cell_type": "code",
   "execution_count": 5,
   "id": "82b11a24",
   "metadata": {},
   "outputs": [
    {
     "name": "stdout",
     "output_type": "stream",
     "text": [
      "Shape of the data: (1694, 7)\n"
     ]
    }
   ],
   "source": [
    "print(\"Shape of the data:\", data.shape)"
   ]
  },
  {
   "cell_type": "code",
   "execution_count": 6,
   "id": "6e5a9c69",
   "metadata": {},
   "outputs": [
    {
     "data": {
      "text/html": [
       "<div>\n",
       "<style scoped>\n",
       "    .dataframe tbody tr th:only-of-type {\n",
       "        vertical-align: middle;\n",
       "    }\n",
       "\n",
       "    .dataframe tbody tr th {\n",
       "        vertical-align: top;\n",
       "    }\n",
       "\n",
       "    .dataframe thead th {\n",
       "        text-align: right;\n",
       "    }\n",
       "</style>\n",
       "<table border=\"1\" class=\"dataframe\">\n",
       "  <thead>\n",
       "    <tr style=\"text-align: right;\">\n",
       "      <th></th>\n",
       "      <th>Date</th>\n",
       "      <th>Open</th>\n",
       "      <th>High</th>\n",
       "      <th>Low</th>\n",
       "      <th>Close</th>\n",
       "      <th>Adj Close</th>\n",
       "      <th>Volume</th>\n",
       "    </tr>\n",
       "  </thead>\n",
       "  <tbody>\n",
       "    <tr>\n",
       "      <th>0</th>\n",
       "      <td>2016-01-04</td>\n",
       "      <td>147500.0</td>\n",
       "      <td>148000.0</td>\n",
       "      <td>143500.0</td>\n",
       "      <td>144000.0</td>\n",
       "      <td>122268.195312</td>\n",
       "      <td>445332</td>\n",
       "    </tr>\n",
       "    <tr>\n",
       "      <th>1</th>\n",
       "      <td>2016-01-05</td>\n",
       "      <td>143000.0</td>\n",
       "      <td>145000.0</td>\n",
       "      <td>142000.0</td>\n",
       "      <td>143500.0</td>\n",
       "      <td>121843.671875</td>\n",
       "      <td>530496</td>\n",
       "    </tr>\n",
       "    <tr>\n",
       "      <th>2</th>\n",
       "      <td>2016-01-06</td>\n",
       "      <td>144000.0</td>\n",
       "      <td>145000.0</td>\n",
       "      <td>139000.0</td>\n",
       "      <td>140000.0</td>\n",
       "      <td>118871.851562</td>\n",
       "      <td>769406</td>\n",
       "    </tr>\n",
       "    <tr>\n",
       "      <th>3</th>\n",
       "      <td>2016-01-07</td>\n",
       "      <td>138500.0</td>\n",
       "      <td>140000.0</td>\n",
       "      <td>137500.0</td>\n",
       "      <td>137500.0</td>\n",
       "      <td>116749.132812</td>\n",
       "      <td>586187</td>\n",
       "    </tr>\n",
       "    <tr>\n",
       "      <th>4</th>\n",
       "      <td>2016-01-08</td>\n",
       "      <td>134500.0</td>\n",
       "      <td>138000.0</td>\n",
       "      <td>133500.0</td>\n",
       "      <td>136500.0</td>\n",
       "      <td>115900.062500</td>\n",
       "      <td>888701</td>\n",
       "    </tr>\n",
       "    <tr>\n",
       "      <th>5</th>\n",
       "      <td>2016-01-11</td>\n",
       "      <td>134500.0</td>\n",
       "      <td>140500.0</td>\n",
       "      <td>134000.0</td>\n",
       "      <td>140000.0</td>\n",
       "      <td>118871.851562</td>\n",
       "      <td>542749</td>\n",
       "    </tr>\n",
       "    <tr>\n",
       "      <th>6</th>\n",
       "      <td>2016-01-12</td>\n",
       "      <td>140500.0</td>\n",
       "      <td>141500.0</td>\n",
       "      <td>139000.0</td>\n",
       "      <td>139500.0</td>\n",
       "      <td>118447.320312</td>\n",
       "      <td>386506</td>\n",
       "    </tr>\n",
       "    <tr>\n",
       "      <th>7</th>\n",
       "      <td>2016-01-13</td>\n",
       "      <td>140500.0</td>\n",
       "      <td>141500.0</td>\n",
       "      <td>139500.0</td>\n",
       "      <td>140500.0</td>\n",
       "      <td>119296.414062</td>\n",
       "      <td>338336</td>\n",
       "    </tr>\n",
       "    <tr>\n",
       "      <th>8</th>\n",
       "      <td>2016-01-14</td>\n",
       "      <td>138500.0</td>\n",
       "      <td>143500.0</td>\n",
       "      <td>136500.0</td>\n",
       "      <td>141000.0</td>\n",
       "      <td>119720.937500</td>\n",
       "      <td>664829</td>\n",
       "    </tr>\n",
       "    <tr>\n",
       "      <th>9</th>\n",
       "      <td>2016-01-15</td>\n",
       "      <td>141000.0</td>\n",
       "      <td>142000.0</td>\n",
       "      <td>136500.0</td>\n",
       "      <td>138500.0</td>\n",
       "      <td>117598.226562</td>\n",
       "      <td>568653</td>\n",
       "    </tr>\n",
       "  </tbody>\n",
       "</table>\n",
       "</div>"
      ],
      "text/plain": [
       "         Date      Open      High       Low     Close      Adj Close  Volume\n",
       "0  2016-01-04  147500.0  148000.0  143500.0  144000.0  122268.195312  445332\n",
       "1  2016-01-05  143000.0  145000.0  142000.0  143500.0  121843.671875  530496\n",
       "2  2016-01-06  144000.0  145000.0  139000.0  140000.0  118871.851562  769406\n",
       "3  2016-01-07  138500.0  140000.0  137500.0  137500.0  116749.132812  586187\n",
       "4  2016-01-08  134500.0  138000.0  133500.0  136500.0  115900.062500  888701\n",
       "5  2016-01-11  134500.0  140500.0  134000.0  140000.0  118871.851562  542749\n",
       "6  2016-01-12  140500.0  141500.0  139000.0  139500.0  118447.320312  386506\n",
       "7  2016-01-13  140500.0  141500.0  139500.0  140500.0  119296.414062  338336\n",
       "8  2016-01-14  138500.0  143500.0  136500.0  141000.0  119720.937500  664829\n",
       "9  2016-01-15  141000.0  142000.0  136500.0  138500.0  117598.226562  568653"
      ]
     },
     "execution_count": 6,
     "metadata": {},
     "output_type": "execute_result"
    }
   ],
   "source": [
    "data.head(10)"
   ]
  },
  {
   "cell_type": "code",
   "execution_count": 7,
   "id": "a2a31848",
   "metadata": {},
   "outputs": [
    {
     "data": {
      "text/plain": [
       "<AxesSubplot:>"
      ]
     },
     "execution_count": 7,
     "metadata": {},
     "output_type": "execute_result"
    },
    {
     "data": {
      "image/png": "[encoded data removed]",
      "text/plain": [
       "<Figure size 1080x360 with 1 Axes>"
      ]
     },
     "metadata": {
      "needs_background": "light"
     },
     "output_type": "display_data"
    }
   ],
   "source": [
    "data['Volume'].plot(figsize=(15,5))"
   ]
  },
  {
   "cell_type": "code",
   "execution_count": 8,
   "id": "17498437",
   "metadata": {},
   "outputs": [],
   "source": [
    "from statsmodels.tsa.stattools import adfuller"
   ]
  },
  {
   "cell_type": "code",
   "execution_count": 9,
   "id": "59e10a7a",
   "metadata": {},
   "outputs": [],
   "source": [
    "def adtest(dataset):\n",
    "    dftest = adfuller(dataset, autolag=\"AIC\")\n",
    "    print(\"1. ADF : \", dftest[0])\n",
    "    print(\"2. P-VALUES : \", dftest[1])\n",
    "    print(\"3. NUM OF LAGS : \", dftest[2])\n",
    "    print(\"4. NUM OF OBSERVATIONS USED FOR THE ADF REGRESSION AND CRITICAL VALUES CALCULATION : \", dftest[3])\n",
    "    print(\"5. CRITICAL VALUES : \")\n",
    "    for key, val in dftest[4].items():\n",
    "        print(\"\\t\", key, \": \",val)"
   ]
  },
  {
   "cell_type": "code",
   "execution_count": 10,
   "id": "d95c6640",
   "metadata": {},
   "outputs": [
    {
     "name": "stdout",
     "output_type": "stream",
     "text": [
      "1. ADF :  -4.128684089431427\n",
      "2. P-VALUES :  0.0008680257575225539\n",
      "3. NUM OF LAGS :  17\n",
      "4. NUM OF OBSERVATIONS USED FOR THE ADF REGRESSION AND CRITICAL VALUES CALCULATION :  1676\n",
      "5. CRITICAL VALUES : \n",
      "\t 1% :  -3.4342577230258966\n",
      "\t 5% :  -2.8632660384888355\n",
      "\t 10% :  -2.5676888997698804\n"
     ]
    }
   ],
   "source": [
    "adtest(data['Volume'])"
   ]
  },
  {
   "cell_type": "code",
   "execution_count": 11,
   "id": "e8f5cfda",
   "metadata": {},
   "outputs": [],
   "source": [
    "from pmdarima import auto_arima\n",
    "\n",
    "import warnings \n",
    "warnings.filterwarnings(\"ignore\")"
   ]
  },
  {
   "cell_type": "code",
   "execution_count": 12,
   "id": "b9891046",
   "metadata": {
    "scrolled": true
   },
   "outputs": [
    {
     "name": "stdout",
     "output_type": "stream",
     "text": [
      "Performing stepwise search to minimize aic\n",
      " ARIMA(2,1,2)(0,0,0)[0] intercept   : AIC=50259.056, Time=0.47 sec\n",
      " ARIMA(0,1,0)(0,0,0)[0] intercept   : AIC=50652.812, Time=0.05 sec\n",
      " ARIMA(1,1,0)(0,0,0)[0] intercept   : AIC=50522.514, Time=0.15 sec\n",
      " ARIMA(0,1,1)(0,0,0)[0] intercept   : AIC=50384.193, Time=0.20 sec\n",
      " ARIMA(0,1,0)(0,0,0)[0]             : AIC=50650.813, Time=0.04 sec\n",
      " ARIMA(1,1,2)(0,0,0)[0] intercept   : AIC=50254.338, Time=0.94 sec\n",
      " ARIMA(0,1,2)(0,0,0)[0] intercept   : AIC=50286.546, Time=0.32 sec\n",
      " ARIMA(1,1,1)(0,0,0)[0] intercept   : AIC=50257.898, Time=0.49 sec\n",
      " ARIMA(1,1,3)(0,0,0)[0] intercept   : AIC=50239.333, Time=1.57 sec\n",
      " ARIMA(0,1,3)(0,0,0)[0] intercept   : AIC=50274.398, Time=0.54 sec\n",
      " ARIMA(2,1,3)(0,0,0)[0] intercept   : AIC=50241.140, Time=2.78 sec\n",
      " ARIMA(1,1,4)(0,0,0)[0] intercept   : AIC=50275.819, Time=0.64 sec\n",
      " ARIMA(0,1,4)(0,0,0)[0] intercept   : AIC=50270.021, Time=0.63 sec\n",
      " ARIMA(2,1,4)(0,0,0)[0] intercept   : AIC=inf, Time=2.97 sec\n",
      " ARIMA(1,1,3)(0,0,0)[0]             : AIC=50236.911, Time=1.44 sec\n",
      " ARIMA(0,1,3)(0,0,0)[0]             : AIC=50272.394, Time=0.43 sec\n",
      " ARIMA(1,1,2)(0,0,0)[0]             : AIC=50252.250, Time=0.80 sec\n",
      " ARIMA(2,1,3)(0,0,0)[0]             : AIC=50238.784, Time=2.33 sec\n",
      " ARIMA(1,1,4)(0,0,0)[0]             : AIC=50273.818, Time=0.54 sec\n",
      " ARIMA(0,1,2)(0,0,0)[0]             : AIC=50284.545, Time=0.28 sec\n",
      " ARIMA(0,1,4)(0,0,0)[0]             : AIC=50268.020, Time=0.54 sec\n",
      " ARIMA(2,1,2)(0,0,0)[0]             : AIC=50257.041, Time=0.52 sec\n",
      " ARIMA(2,1,4)(0,0,0)[0]             : AIC=inf, Time=2.52 sec\n",
      "\n",
      "Best model:  ARIMA(1,1,3)(0,0,0)[0]          \n",
      "Total fit time: 21.201 seconds\n"
     ]
    },
    {
     "data": {
      "text/html": [
       "<table class=\"simpletable\">\n",
       "<caption>SARIMAX Results</caption>\n",
       "<tr>\n",
       "  <th>Dep. Variable:</th>           <td>y</td>        <th>  No. Observations:  </th>    <td>1694</td>   \n",
       "</tr>\n",
       "<tr>\n",
       "  <th>Model:</th>           <td>SARIMAX(1, 1, 3)</td> <th>  Log Likelihood     </th> <td>-25113.455</td>\n",
       "</tr>\n",
       "<tr>\n",
       "  <th>Date:</th>            <td>Tue, 29 Nov 2022</td> <th>  AIC                </th>  <td>50236.911</td>\n",
       "</tr>\n",
       "<tr>\n",
       "  <th>Time:</th>                <td>10:24:53</td>     <th>  BIC                </th>  <td>50264.082</td>\n",
       "</tr>\n",
       "<tr>\n",
       "  <th>Sample:</th>                  <td>0</td>        <th>  HQIC               </th>  <td>50246.972</td>\n",
       "</tr>\n",
       "<tr>\n",
       "  <th></th>                      <td> - 1694</td>     <th>                     </th>      <td> </td>    \n",
       "</tr>\n",
       "<tr>\n",
       "  <th>Covariance Type:</th>        <td>opg</td>       <th>                     </th>      <td> </td>    \n",
       "</tr>\n",
       "</table>\n",
       "<table class=\"simpletable\">\n",
       "<tr>\n",
       "     <td></td>       <th>coef</th>     <th>std err</th>      <th>z</th>      <th>P>|z|</th>  <th>[0.025</th>    <th>0.975]</th>  \n",
       "</tr>\n",
       "<tr>\n",
       "  <th>ar.L1</th>  <td>    0.8165</td> <td>    0.027</td> <td>   30.021</td> <td> 0.000</td> <td>    0.763</td> <td>    0.870</td>\n",
       "</tr>\n",
       "<tr>\n",
       "  <th>ma.L1</th>  <td>   -1.2928</td> <td>    0.029</td> <td>  -44.397</td> <td> 0.000</td> <td>   -1.350</td> <td>   -1.236</td>\n",
       "</tr>\n",
       "<tr>\n",
       "  <th>ma.L2</th>  <td>    0.1621</td> <td>    0.018</td> <td>    8.820</td> <td> 0.000</td> <td>    0.126</td> <td>    0.198</td>\n",
       "</tr>\n",
       "<tr>\n",
       "  <th>ma.L3</th>  <td>    0.1447</td> <td>    0.024</td> <td>    5.981</td> <td> 0.000</td> <td>    0.097</td> <td>    0.192</td>\n",
       "</tr>\n",
       "<tr>\n",
       "  <th>sigma2</th> <td> 4.719e+11</td> <td> 3.58e-13</td> <td> 1.32e+24</td> <td> 0.000</td> <td> 4.72e+11</td> <td> 4.72e+11</td>\n",
       "</tr>\n",
       "</table>\n",
       "<table class=\"simpletable\">\n",
       "<tr>\n",
       "  <th>Ljung-Box (L1) (Q):</th>     <td>0.00</td>  <th>  Jarque-Bera (JB):  </th> <td>5557749.66</td>\n",
       "</tr>\n",
       "<tr>\n",
       "  <th>Prob(Q):</th>                <td>0.98</td>  <th>  Prob(JB):          </th>    <td>0.00</td>   \n",
       "</tr>\n",
       "<tr>\n",
       "  <th>Heteroskedasticity (H):</th> <td>13.59</td> <th>  Skew:              </th>    <td>11.87</td>  \n",
       "</tr>\n",
       "<tr>\n",
       "  <th>Prob(H) (two-sided):</th>    <td>0.00</td>  <th>  Kurtosis:          </th>   <td>282.68</td>  \n",
       "</tr>\n",
       "</table><br/><br/>Warnings:<br/>[1] Covariance matrix calculated using the outer product of gradients (complex-step).<br/>[2] Covariance matrix is singular or near-singular, with condition number 7.25e+38. Standard errors may be unstable."
      ],
      "text/plain": [
       "<class 'statsmodels.iolib.summary.Summary'>\n",
       "\"\"\"\n",
       "                               SARIMAX Results                                \n",
       "==============================================================================\n",
       "Dep. Variable:                      y   No. Observations:                 1694\n",
       "Model:               SARIMAX(1, 1, 3)   Log Likelihood              -25113.455\n",
       "Date:                Tue, 29 Nov 2022   AIC                          50236.911\n",
       "Time:                        10:24:53   BIC                          50264.082\n",
       "Sample:                             0   HQIC                         50246.972\n",
       "                               - 1694                                         \n",
       "Covariance Type:                  opg                                         \n",
       "==============================================================================\n",
       "                 coef    std err          z      P>|z|      [0.025      0.975]\n",
       "------------------------------------------------------------------------------\n",
       "ar.L1          0.8165      0.027     30.021      0.000       0.763       0.870\n",
       "ma.L1         -1.2928      0.029    -44.397      0.000      -1.350      -1.236\n",
       "ma.L2          0.1621      0.018      8.820      0.000       0.126       0.198\n",
       "ma.L3          0.1447      0.024      5.981      0.000       0.097       0.192\n",
       "sigma2      4.719e+11   3.58e-13   1.32e+24      0.000    4.72e+11    4.72e+11\n",
       "===================================================================================\n",
       "Ljung-Box (L1) (Q):                   0.00   Jarque-Bera (JB):           5557749.66\n",
       "Prob(Q):                              0.98   Prob(JB):                         0.00\n",
       "Heteroskedasticity (H):              13.59   Skew:                            11.87\n",
       "Prob(H) (two-sided):                  0.00   Kurtosis:                       282.68\n",
       "===================================================================================\n",
       "\n",
       "Warnings:\n",
       "[1] Covariance matrix calculated using the outer product of gradients (complex-step).\n",
       "[2] Covariance matrix is singular or near-singular, with condition number 7.25e+38. Standard errors may be unstable.\n",
       "\"\"\""
      ]
     },
     "execution_count": 12,
     "metadata": {},
     "output_type": "execute_result"
    }
   ],
   "source": [
    "hyundai_fit = auto_arima(data['Volume'],trace=True,\n",
    "                        suppress_warnings=True)\n",
    "hyundai_fit.summary()"
   ]
  },
  {
   "cell_type": "code",
   "execution_count": 13,
   "id": "8a1baa3f",
   "metadata": {},
   "outputs": [],
   "source": [
    "from statsmodels.tsa.arima.model import ARIMA"
   ]
  },
  {
   "cell_type": "code",
   "execution_count": 50,
   "id": "7237b0ad",
   "metadata": {},
   "outputs": [
    {
     "name": "stdout",
     "output_type": "stream",
     "text": [
      "(1694, 7)\n",
      "(1664, 7) (30, 7)\n"
     ]
    }
   ],
   "source": [
    "print(data.shape)\n",
    "train = data.iloc[:-30]\n",
    "test = data.iloc[-30:]\n",
    "print(train.shape, test.shape)"
   ]
  },
  {
   "cell_type": "code",
   "execution_count": 51,
   "id": "31b19555",
   "metadata": {},
   "outputs": [
    {
     "data": {
      "text/html": [
       "<table class=\"simpletable\">\n",
       "<caption>SARIMAX Results</caption>\n",
       "<tr>\n",
       "  <th>Dep. Variable:</th>        <td>Volume</td>      <th>  No. Observations:  </th>    <td>1664</td>   \n",
       "</tr>\n",
       "<tr>\n",
       "  <th>Model:</th>            <td>ARIMA(1, 1, 3)</td>  <th>  Log Likelihood     </th> <td>-24681.044</td>\n",
       "</tr>\n",
       "<tr>\n",
       "  <th>Date:</th>            <td>Tue, 29 Nov 2022</td> <th>  AIC                </th>  <td>49372.088</td>\n",
       "</tr>\n",
       "<tr>\n",
       "  <th>Time:</th>                <td>11:24:25</td>     <th>  BIC                </th>  <td>49399.170</td>\n",
       "</tr>\n",
       "<tr>\n",
       "  <th>Sample:</th>                  <td>0</td>        <th>  HQIC               </th>  <td>49382.125</td>\n",
       "</tr>\n",
       "<tr>\n",
       "  <th></th>                      <td> - 1664</td>     <th>                     </th>      <td> </td>    \n",
       "</tr>\n",
       "<tr>\n",
       "  <th>Covariance Type:</th>        <td>opg</td>       <th>                     </th>      <td> </td>    \n",
       "</tr>\n",
       "</table>\n",
       "<table class=\"simpletable\">\n",
       "<tr>\n",
       "     <td></td>       <th>coef</th>     <th>std err</th>      <th>z</th>      <th>P>|z|</th>  <th>[0.025</th>    <th>0.975]</th>  \n",
       "</tr>\n",
       "<tr>\n",
       "  <th>ar.L1</th>  <td>    0.8163</td> <td>    0.028</td> <td>   29.537</td> <td> 0.000</td> <td>    0.762</td> <td>    0.870</td>\n",
       "</tr>\n",
       "<tr>\n",
       "  <th>ma.L1</th>  <td>   -1.2922</td> <td>    0.030</td> <td>  -43.672</td> <td> 0.000</td> <td>   -1.350</td> <td>   -1.234</td>\n",
       "</tr>\n",
       "<tr>\n",
       "  <th>ma.L2</th>  <td>    0.1615</td> <td>    0.019</td> <td>    8.652</td> <td> 0.000</td> <td>    0.125</td> <td>    0.198</td>\n",
       "</tr>\n",
       "<tr>\n",
       "  <th>ma.L3</th>  <td>    0.1447</td> <td>    0.025</td> <td>    5.889</td> <td> 0.000</td> <td>    0.097</td> <td>    0.193</td>\n",
       "</tr>\n",
       "<tr>\n",
       "  <th>sigma2</th> <td> 4.792e+11</td> <td>  3.6e-13</td> <td> 1.33e+24</td> <td> 0.000</td> <td> 4.79e+11</td> <td> 4.79e+11</td>\n",
       "</tr>\n",
       "</table>\n",
       "<table class=\"simpletable\">\n",
       "<tr>\n",
       "  <th>Ljung-Box (L1) (Q):</th>     <td>0.00</td>  <th>  Jarque-Bera (JB):  </th> <td>5324434.82</td>\n",
       "</tr>\n",
       "<tr>\n",
       "  <th>Prob(Q):</th>                <td>0.98</td>  <th>  Prob(JB):          </th>    <td>0.00</td>   \n",
       "</tr>\n",
       "<tr>\n",
       "  <th>Heteroskedasticity (H):</th> <td>15.29</td> <th>  Skew:              </th>    <td>11.81</td>  \n",
       "</tr>\n",
       "<tr>\n",
       "  <th>Prob(H) (two-sided):</th>    <td>0.00</td>  <th>  Kurtosis:          </th>   <td>279.19</td>  \n",
       "</tr>\n",
       "</table><br/><br/>Warnings:<br/>[1] Covariance matrix calculated using the outer product of gradients (complex-step).<br/>[2] Covariance matrix is singular or near-singular, with condition number 1.21e+38. Standard errors may be unstable."
      ],
      "text/plain": [
       "<class 'statsmodels.iolib.summary.Summary'>\n",
       "\"\"\"\n",
       "                               SARIMAX Results                                \n",
       "==============================================================================\n",
       "Dep. Variable:                 Volume   No. Observations:                 1664\n",
       "Model:                 ARIMA(1, 1, 3)   Log Likelihood              -24681.044\n",
       "Date:                Tue, 29 Nov 2022   AIC                          49372.088\n",
       "Time:                        11:24:25   BIC                          49399.170\n",
       "Sample:                             0   HQIC                         49382.125\n",
       "                               - 1664                                         \n",
       "Covariance Type:                  opg                                         \n",
       "==============================================================================\n",
       "                 coef    std err          z      P>|z|      [0.025      0.975]\n",
       "------------------------------------------------------------------------------\n",
       "ar.L1          0.8163      0.028     29.537      0.000       0.762       0.870\n",
       "ma.L1         -1.2922      0.030    -43.672      0.000      -1.350      -1.234\n",
       "ma.L2          0.1615      0.019      8.652      0.000       0.125       0.198\n",
       "ma.L3          0.1447      0.025      5.889      0.000       0.097       0.193\n",
       "sigma2      4.792e+11    3.6e-13   1.33e+24      0.000    4.79e+11    4.79e+11\n",
       "===================================================================================\n",
       "Ljung-Box (L1) (Q):                   0.00   Jarque-Bera (JB):           5324434.82\n",
       "Prob(Q):                              0.98   Prob(JB):                         0.00\n",
       "Heteroskedasticity (H):              15.29   Skew:                            11.81\n",
       "Prob(H) (two-sided):                  0.00   Kurtosis:                       279.19\n",
       "===================================================================================\n",
       "\n",
       "Warnings:\n",
       "[1] Covariance matrix calculated using the outer product of gradients (complex-step).\n",
       "[2] Covariance matrix is singular or near-singular, with condition number 1.21e+38. Standard errors may be unstable.\n",
       "\"\"\""
      ]
     },
     "execution_count": 51,
     "metadata": {},
     "output_type": "execute_result"
    }
   ],
   "source": [
    "model = ARIMA(train['Volume'], order=(1,1,3))\n",
    "model = model.fit()\n",
    "model.summary()"
   ]
  },
  {
   "cell_type": "markdown",
   "id": "cba471b0",
   "metadata": {},
   "source": [
    "### Make predictions on test data set"
   ]
  },
  {
   "cell_type": "code",
   "execution_count": 52,
   "id": "96b89b4a",
   "metadata": {},
   "outputs": [
    {
     "name": "stdout",
     "output_type": "stream",
     "text": [
      "1664    728999.638887\n",
      "1665    752284.762778\n",
      "1666    760897.705649\n",
      "1667    767928.090333\n",
      "1668    773666.699025\n",
      "1669    778350.885053\n",
      "1670    782174.390004\n",
      "1671    785295.357025\n",
      "1672    787842.871745\n",
      "1673    789922.301360\n",
      "1674    791619.652698\n",
      "1675    793005.129537\n",
      "1676    794136.036277\n",
      "1677    795059.148104\n",
      "1678    795812.645642\n",
      "1679    796427.694137\n",
      "1680    796929.732475\n",
      "1681    797339.525352\n",
      "1682    797674.022121\n",
      "1683    797947.057831\n",
      "1684    798169.925450\n",
      "1685    798351.842957\n",
      "1686    798500.334602\n",
      "1687    798621.542115\n",
      "1688    798720.478733\n",
      "1689    798801.236553\n",
      "1690    798867.155781\n",
      "1691    798920.962886\n",
      "1692    798964.883374\n",
      "1693    799000.733829\n",
      "Name: predicted_mean, dtype: float64\n",
      "1664    728999.638887\n",
      "1665    752284.762778\n",
      "1666    760897.705649\n",
      "1667    767928.090333\n",
      "1668    773666.699025\n",
      "1669    778350.885053\n",
      "1670    782174.390004\n",
      "1671    785295.357025\n",
      "1672    787842.871745\n",
      "1673    789922.301360\n",
      "1674    791619.652698\n",
      "1675    793005.129537\n",
      "1676    794136.036277\n",
      "1677    795059.148104\n",
      "1678    795812.645642\n",
      "1679    796427.694137\n",
      "1680    796929.732475\n",
      "1681    797339.525352\n",
      "1682    797674.022121\n",
      "1683    797947.057831\n",
      "1684    798169.925450\n",
      "1685    798351.842957\n",
      "1686    798500.334602\n",
      "1687    798621.542115\n",
      "1688    798720.478733\n",
      "1689    798801.236553\n",
      "1690    798867.155781\n",
      "1691    798920.962886\n",
      "1692    798964.883374\n",
      "1693    799000.733829\n",
      "Name: predicted_mean, dtype: float64\n"
     ]
    }
   ],
   "source": [
    "start = len(train)\n",
    "end = len(train)+len(test)-1\n",
    "pred = model.predict(start=start, end = end, typ='levels')\n",
    "print(pred)\n",
    "pred.index = data.index[start:end+1]\n",
    "print(pred)"
   ]
  },
  {
   "cell_type": "code",
   "execution_count": 53,
   "id": "d5b300b8",
   "metadata": {},
   "outputs": [
    {
     "data": {
      "text/plain": [
       "<AxesSubplot:>"
      ]
     },
     "execution_count": 53,
     "metadata": {},
     "output_type": "execute_result"
    },
    {
     "data": {
      "image/png": "[encoded data removed]",
      "text/plain": [
       "<Figure size 432x288 with 1 Axes>"
      ]
     },
     "metadata": {
      "needs_background": "light"
     },
     "output_type": "display_data"
    }
   ],
   "source": [
    "pred.plot(legend=True)\n",
    "test['Volume'].plot(legend=True)"
   ]
  },
  {
   "cell_type": "code",
   "execution_count": 18,
   "id": "ea10c4fb",
   "metadata": {},
   "outputs": [
    {
     "data": {
      "text/plain": [
       "801051.7"
      ]
     },
     "execution_count": 18,
     "metadata": {},
     "output_type": "execute_result"
    }
   ],
   "source": [
    "test['Volume'].mean()"
   ]
  },
  {
   "cell_type": "code",
   "execution_count": 19,
   "id": "8dc1124a",
   "metadata": {},
   "outputs": [
    {
     "name": "stdout",
     "output_type": "stream",
     "text": [
      "293592.31771563896\n"
     ]
    }
   ],
   "source": [
    "from sklearn.metrics import mean_squared_error\n",
    "from math import sqrt\n",
    "rmse = sqrt(mean_squared_error(pred, test['Volume']))\n",
    "print(rmse)"
   ]
  },
  {
   "cell_type": "code",
   "execution_count": 20,
   "id": "9faa3631",
   "metadata": {},
   "outputs": [
    {
     "data": {
      "text/html": [
       "<div>\n",
       "<style scoped>\n",
       "    .dataframe tbody tr th:only-of-type {\n",
       "        vertical-align: middle;\n",
       "    }\n",
       "\n",
       "    .dataframe tbody tr th {\n",
       "        vertical-align: top;\n",
       "    }\n",
       "\n",
       "    .dataframe thead th {\n",
       "        text-align: right;\n",
       "    }\n",
       "</style>\n",
       "<table border=\"1\" class=\"dataframe\">\n",
       "  <thead>\n",
       "    <tr style=\"text-align: right;\">\n",
       "      <th></th>\n",
       "      <th>Date</th>\n",
       "      <th>Open</th>\n",
       "      <th>High</th>\n",
       "      <th>Low</th>\n",
       "      <th>Close</th>\n",
       "      <th>Adj Close</th>\n",
       "      <th>Volume</th>\n",
       "    </tr>\n",
       "  </thead>\n",
       "  <tbody>\n",
       "    <tr>\n",
       "      <th>1689</th>\n",
       "      <td>2022-11-22</td>\n",
       "      <td>167500.0</td>\n",
       "      <td>168000.0</td>\n",
       "      <td>165000.0</td>\n",
       "      <td>165500.0</td>\n",
       "      <td>165500.0</td>\n",
       "      <td>454542</td>\n",
       "    </tr>\n",
       "    <tr>\n",
       "      <th>1690</th>\n",
       "      <td>2022-11-23</td>\n",
       "      <td>166500.0</td>\n",
       "      <td>167500.0</td>\n",
       "      <td>164000.0</td>\n",
       "      <td>166000.0</td>\n",
       "      <td>166000.0</td>\n",
       "      <td>449446</td>\n",
       "    </tr>\n",
       "    <tr>\n",
       "      <th>1691</th>\n",
       "      <td>2022-11-24</td>\n",
       "      <td>168000.0</td>\n",
       "      <td>168500.0</td>\n",
       "      <td>166500.0</td>\n",
       "      <td>167500.0</td>\n",
       "      <td>167500.0</td>\n",
       "      <td>323362</td>\n",
       "    </tr>\n",
       "    <tr>\n",
       "      <th>1692</th>\n",
       "      <td>2022-11-25</td>\n",
       "      <td>168000.0</td>\n",
       "      <td>168500.0</td>\n",
       "      <td>166000.0</td>\n",
       "      <td>166000.0</td>\n",
       "      <td>166000.0</td>\n",
       "      <td>356637</td>\n",
       "    </tr>\n",
       "    <tr>\n",
       "      <th>1693</th>\n",
       "      <td>2022-11-28</td>\n",
       "      <td>166000.0</td>\n",
       "      <td>169500.0</td>\n",
       "      <td>164000.0</td>\n",
       "      <td>167500.0</td>\n",
       "      <td>167500.0</td>\n",
       "      <td>549252</td>\n",
       "    </tr>\n",
       "  </tbody>\n",
       "</table>\n",
       "</div>"
      ],
      "text/plain": [
       "            Date      Open      High       Low     Close  Adj Close  Volume\n",
       "1689  2022-11-22  167500.0  168000.0  165000.0  165500.0   165500.0  454542\n",
       "1690  2022-11-23  166500.0  167500.0  164000.0  166000.0   166000.0  449446\n",
       "1691  2022-11-24  168000.0  168500.0  166500.0  167500.0   167500.0  323362\n",
       "1692  2022-11-25  168000.0  168500.0  166000.0  166000.0   166000.0  356637\n",
       "1693  2022-11-28  166000.0  169500.0  164000.0  167500.0   167500.0  549252"
      ]
     },
     "execution_count": 20,
     "metadata": {},
     "output_type": "execute_result"
    }
   ],
   "source": [
    "data.tail()"
   ]
  },
  {
   "cell_type": "markdown",
   "id": "f2cb6928",
   "metadata": {},
   "source": [
    "### Future Prediction"
   ]
  },
  {
   "cell_type": "code",
   "execution_count": 21,
   "id": "b9e49f63",
   "metadata": {},
   "outputs": [
    {
     "name": "stdout",
     "output_type": "stream",
     "text": [
      "2022-11-28    812434.435507\n",
      "2022-11-29    812432.642023\n",
      "2022-11-30    812431.178033\n",
      "2022-12-01    812429.983002\n",
      "2022-12-02    812429.007519\n",
      "2022-12-03    812428.211248\n",
      "2022-12-04    812427.561266\n",
      "2022-12-05    812427.030696\n",
      "2022-12-06    812426.597601\n",
      "2022-12-07    812426.244073\n",
      "2022-12-08    812425.955494\n",
      "2022-12-09    812425.719932\n",
      "2022-12-10    812425.527646\n",
      "2022-12-11    812425.370687\n",
      "2022-12-12    812425.242564\n",
      "2022-12-13    812425.137979\n",
      "2022-12-14    812425.052608\n",
      "2022-12-15    812424.982921\n",
      "2022-12-16    812424.926037\n",
      "2022-12-17    812424.879604\n",
      "2022-12-18    812424.841701\n",
      "2022-12-19    812424.810761\n",
      "2022-12-20    812424.785506\n",
      "2022-12-21    812424.764890\n",
      "2022-12-22    812424.748062\n",
      "2022-12-23    812424.734326\n",
      "2022-12-24    812424.723113\n",
      "2022-12-25    812424.713960\n",
      "2022-12-26    812424.706488\n",
      "2022-12-27    812424.700390\n",
      "2022-12-28    812424.695411\n",
      "Freq: D, Name: ARIMA predictions, dtype: float64\n"
     ]
    }
   ],
   "source": [
    "index_future_dates = pd.date_range(start='2022-11-28', end='2022-12-28')\n",
    "pred1 = pred\n",
    "pred = model.predict(start=len(data), end=len(data)+30, typ = 'levels').rename('ARIMA predictions')\n",
    "pred.index = index_future_dates\n",
    "print(pred)"
   ]
  },
  {
   "cell_type": "code",
   "execution_count": 24,
   "id": "60fb5c19",
   "metadata": {},
   "outputs": [],
   "source": [
    "x = data.iloc[:,:-1]\n",
    "y = data.iloc[:,-1]"
   ]
  },
  {
   "cell_type": "code",
   "execution_count": 25,
   "id": "60b2a119",
   "metadata": {},
   "outputs": [],
   "source": [
    "from sklearn.model_selection import train_test_split\n",
    "from sklearn.metrics import confusion_matrix, classification_report"
   ]
  },
  {
   "cell_type": "code",
   "execution_count": 26,
   "id": "145c4965",
   "metadata": {},
   "outputs": [],
   "source": [
    "x_train,x_test,y_train,y_test = train_test_split(x,y,test_size=0.35)"
   ]
  },
  {
   "cell_type": "code",
   "execution_count": 28,
   "id": "74f7ca5d",
   "metadata": {},
   "outputs": [
    {
     "data": {
      "text/plain": [
       "Date          object\n",
       "Open         float64\n",
       "High         float64\n",
       "Low          float64\n",
       "Close        float64\n",
       "Adj Close    float64\n",
       "Volume         int64\n",
       "dtype: object"
      ]
     },
     "execution_count": 28,
     "metadata": {},
     "output_type": "execute_result"
    }
   ],
   "source": [
    "data.dtypes"
   ]
  },
  {
   "cell_type": "code",
   "execution_count": 32,
   "id": "8e108e0c",
   "metadata": {},
   "outputs": [],
   "source": [
    "from sklearn.preprocessing import LabelEncoder\n",
    "lb = LabelEncoder()"
   ]
  },
  {
   "cell_type": "code",
   "execution_count": 33,
   "id": "acd92c37",
   "metadata": {},
   "outputs": [
    {
     "data": {
      "text/plain": [
       "Date           int32\n",
       "Open         float64\n",
       "High         float64\n",
       "Low          float64\n",
       "Close        float64\n",
       "Adj Close    float64\n",
       "Volume         int64\n",
       "dtype: object"
      ]
     },
     "execution_count": 33,
     "metadata": {},
     "output_type": "execute_result"
    }
   ],
   "source": [
    "data[\"Date\"]=lb.fit_transform(\n",
    "    [\"Date\"])\n",
    "data.dtypes"
   ]
  },
  {
   "cell_type": "code",
   "execution_count": 34,
   "id": "7ea22192",
   "metadata": {},
   "outputs": [
    {
     "data": {
      "text/html": [
       "<div>\n",
       "<style scoped>\n",
       "    .dataframe tbody tr th:only-of-type {\n",
       "        vertical-align: middle;\n",
       "    }\n",
       "\n",
       "    .dataframe tbody tr th {\n",
       "        vertical-align: top;\n",
       "    }\n",
       "\n",
       "    .dataframe thead th {\n",
       "        text-align: right;\n",
       "    }\n",
       "</style>\n",
       "<table border=\"1\" class=\"dataframe\">\n",
       "  <thead>\n",
       "    <tr style=\"text-align: right;\">\n",
       "      <th></th>\n",
       "      <th>Date</th>\n",
       "      <th>Open</th>\n",
       "      <th>High</th>\n",
       "      <th>Low</th>\n",
       "      <th>Close</th>\n",
       "      <th>Adj Close</th>\n",
       "      <th>Volume</th>\n",
       "    </tr>\n",
       "  </thead>\n",
       "  <tbody>\n",
       "    <tr>\n",
       "      <th>0</th>\n",
       "      <td>0</td>\n",
       "      <td>147500.0</td>\n",
       "      <td>148000.0</td>\n",
       "      <td>143500.0</td>\n",
       "      <td>144000.0</td>\n",
       "      <td>122268.195312</td>\n",
       "      <td>445332</td>\n",
       "    </tr>\n",
       "    <tr>\n",
       "      <th>1</th>\n",
       "      <td>1</td>\n",
       "      <td>143000.0</td>\n",
       "      <td>145000.0</td>\n",
       "      <td>142000.0</td>\n",
       "      <td>143500.0</td>\n",
       "      <td>121843.671875</td>\n",
       "      <td>530496</td>\n",
       "    </tr>\n",
       "    <tr>\n",
       "      <th>2</th>\n",
       "      <td>2</td>\n",
       "      <td>144000.0</td>\n",
       "      <td>145000.0</td>\n",
       "      <td>139000.0</td>\n",
       "      <td>140000.0</td>\n",
       "      <td>118871.851562</td>\n",
       "      <td>769406</td>\n",
       "    </tr>\n",
       "    <tr>\n",
       "      <th>3</th>\n",
       "      <td>3</td>\n",
       "      <td>138500.0</td>\n",
       "      <td>140000.0</td>\n",
       "      <td>137500.0</td>\n",
       "      <td>137500.0</td>\n",
       "      <td>116749.132812</td>\n",
       "      <td>586187</td>\n",
       "    </tr>\n",
       "    <tr>\n",
       "      <th>4</th>\n",
       "      <td>4</td>\n",
       "      <td>134500.0</td>\n",
       "      <td>138000.0</td>\n",
       "      <td>133500.0</td>\n",
       "      <td>136500.0</td>\n",
       "      <td>115900.062500</td>\n",
       "      <td>888701</td>\n",
       "    </tr>\n",
       "    <tr>\n",
       "      <th>...</th>\n",
       "      <td>...</td>\n",
       "      <td>...</td>\n",
       "      <td>...</td>\n",
       "      <td>...</td>\n",
       "      <td>...</td>\n",
       "      <td>...</td>\n",
       "      <td>...</td>\n",
       "    </tr>\n",
       "    <tr>\n",
       "      <th>1689</th>\n",
       "      <td>1689</td>\n",
       "      <td>167500.0</td>\n",
       "      <td>168000.0</td>\n",
       "      <td>165000.0</td>\n",
       "      <td>165500.0</td>\n",
       "      <td>165500.000000</td>\n",
       "      <td>454542</td>\n",
       "    </tr>\n",
       "    <tr>\n",
       "      <th>1690</th>\n",
       "      <td>1690</td>\n",
       "      <td>166500.0</td>\n",
       "      <td>167500.0</td>\n",
       "      <td>164000.0</td>\n",
       "      <td>166000.0</td>\n",
       "      <td>166000.000000</td>\n",
       "      <td>449446</td>\n",
       "    </tr>\n",
       "    <tr>\n",
       "      <th>1691</th>\n",
       "      <td>1691</td>\n",
       "      <td>168000.0</td>\n",
       "      <td>168500.0</td>\n",
       "      <td>166500.0</td>\n",
       "      <td>167500.0</td>\n",
       "      <td>167500.000000</td>\n",
       "      <td>323362</td>\n",
       "    </tr>\n",
       "    <tr>\n",
       "      <th>1692</th>\n",
       "      <td>1692</td>\n",
       "      <td>168000.0</td>\n",
       "      <td>168500.0</td>\n",
       "      <td>166000.0</td>\n",
       "      <td>166000.0</td>\n",
       "      <td>166000.000000</td>\n",
       "      <td>356637</td>\n",
       "    </tr>\n",
       "    <tr>\n",
       "      <th>1693</th>\n",
       "      <td>1693</td>\n",
       "      <td>166000.0</td>\n",
       "      <td>169500.0</td>\n",
       "      <td>164000.0</td>\n",
       "      <td>167500.0</td>\n",
       "      <td>167500.000000</td>\n",
       "      <td>549252</td>\n",
       "    </tr>\n",
       "  </tbody>\n",
       "</table>\n",
       "<p>1694 rows × 7 columns</p>\n",
       "</div>"
      ],
      "text/plain": [
       "      Date      Open      High       Low     Close      Adj Close  Volume\n",
       "0        0  147500.0  148000.0  143500.0  144000.0  122268.195312  445332\n",
       "1        1  143000.0  145000.0  142000.0  143500.0  121843.671875  530496\n",
       "2        2  144000.0  145000.0  139000.0  140000.0  118871.851562  769406\n",
       "3        3  138500.0  140000.0  137500.0  137500.0  116749.132812  586187\n",
       "4        4  134500.0  138000.0  133500.0  136500.0  115900.062500  888701\n",
       "...    ...       ...       ...       ...       ...            ...     ...\n",
       "1689  1689  167500.0  168000.0  165000.0  165500.0  165500.000000  454542\n",
       "1690  1690  166500.0  167500.0  164000.0  166000.0  166000.000000  449446\n",
       "1691  1691  168000.0  168500.0  166500.0  167500.0  167500.000000  323362\n",
       "1692  1692  168000.0  168500.0  166000.0  166000.0  166000.000000  356637\n",
       "1693  1693  166000.0  169500.0  164000.0  167500.0  167500.000000  549252\n",
       "\n",
       "[1694 rows x 7 columns]"
      ]
     },
     "execution_count": 34,
     "metadata": {},
     "output_type": "execute_result"
    }
   ],
   "source": [
    "data"
   ]
  },
  {
   "cell_type": "code",
   "execution_count": 41,
   "id": "1cfafa92",
   "metadata": {},
   "outputs": [],
   "source": [
    "#model1 = ARIMA(train['Volume'], order=(1,1,3))\n",
    "#model1 = model.fit(x_train, y_train)\n",
    "#model1.summary()\n",
    "#pred2 = model.predict()\n"
   ]
  },
  {
   "cell_type": "code",
   "execution_count": null,
   "id": "da39b064",
   "metadata": {},
   "outputs": [],
   "source": []
  },
  {
   "cell_type": "code",
   "execution_count": null,
   "id": "500a92f6",
   "metadata": {},
   "outputs": [],
   "source": []
  },
  {
   "cell_type": "code",
   "execution_count": null,
   "id": "272c729b",
   "metadata": {},
   "outputs": [],
   "source": []
  },
  {
   "cell_type": "code",
   "execution_count": null,
   "id": "e2d875ac",
   "metadata": {},
   "outputs": [],
   "source": []
  },
  {
   "cell_type": "code",
   "execution_count": null,
   "id": "63aa05ad",
   "metadata": {},
   "outputs": [],
   "source": []
  }
 ],
 "metadata": {
  "kernelspec": {
   "display_name": "Python 3 (ipykernel)",
   "language": "python",
   "name": "python3"
  },
  "language_info": {
   "codemirror_mode": {
    "name": "ipython",
    "version": 3
   },
   "file_extension": ".py",
   "mimetype": "text/x-python",
   "name": "python",
   "nbconvert_exporter": "python",
   "pygments_lexer": "ipython3",
   "version": "3.10.4"
  }
 },
 "nbformat": 4,
 "nbformat_minor": 5
}
