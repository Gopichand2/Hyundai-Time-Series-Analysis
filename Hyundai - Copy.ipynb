{
 "cells": [
  {
   "cell_type": "code",
   "execution_count": 59,
   "id": "a6177553",
   "metadata": {},
   "outputs": [],
   "source": [
    "import pandas as pd\n",
    "import numpy as np\n",
    "import matplotlib.pyplot as plt"
   ]
  },
  {
   "cell_type": "code",
   "execution_count": 60,
   "id": "ac6f134c",
   "metadata": {},
   "outputs": [],
   "source": [
    "data = pd.read_csv('Microsoft_Stock.csv')"
   ]
  },
  {
   "cell_type": "code",
   "execution_count": 61,
   "id": "36d4173d",
   "metadata": {},
   "outputs": [
    {
     "name": "stdout",
     "output_type": "stream",
     "text": [
      "Date      0\n",
      "Open      0\n",
      "High      0\n",
      "Low       0\n",
      "Close     0\n",
      "Volume    0\n",
      "dtype: int64\n"
     ]
    }
   ],
   "source": [
    "print(data.isnull().sum())"
   ]
  },
  {
   "cell_type": "code",
   "execution_count": 62,
   "id": "ea63643b",
   "metadata": {},
   "outputs": [
    {
     "name": "stdout",
     "output_type": "stream",
     "text": [
      "0\n"
     ]
    }
   ],
   "source": [
    "print(data.duplicated().sum())"
   ]
  },
  {
   "cell_type": "code",
   "execution_count": 63,
   "id": "82b11a24",
   "metadata": {},
   "outputs": [
    {
     "name": "stdout",
     "output_type": "stream",
     "text": [
      "Shape of the data: (1511, 6)\n"
     ]
    }
   ],
   "source": [
    "print(\"Shape of the data:\", data.shape)"
   ]
  },
  {
   "cell_type": "code",
   "execution_count": 64,
   "id": "6e5a9c69",
   "metadata": {
    "scrolled": true
   },
   "outputs": [
    {
     "data": {
      "text/html": [
       "<div>\n",
       "<style scoped>\n",
       "    .dataframe tbody tr th:only-of-type {\n",
       "        vertical-align: middle;\n",
       "    }\n",
       "\n",
       "    .dataframe tbody tr th {\n",
       "        vertical-align: top;\n",
       "    }\n",
       "\n",
       "    .dataframe thead th {\n",
       "        text-align: right;\n",
       "    }\n",
       "</style>\n",
       "<table border=\"1\" class=\"dataframe\">\n",
       "  <thead>\n",
       "    <tr style=\"text-align: right;\">\n",
       "      <th></th>\n",
       "      <th>Date</th>\n",
       "      <th>Open</th>\n",
       "      <th>High</th>\n",
       "      <th>Low</th>\n",
       "      <th>Close</th>\n",
       "      <th>Volume</th>\n",
       "    </tr>\n",
       "  </thead>\n",
       "  <tbody>\n",
       "    <tr>\n",
       "      <th>0</th>\n",
       "      <td>4/1/2015 16:00:00</td>\n",
       "      <td>40.60</td>\n",
       "      <td>40.76</td>\n",
       "      <td>40.31</td>\n",
       "      <td>40.72</td>\n",
       "      <td>36865322</td>\n",
       "    </tr>\n",
       "    <tr>\n",
       "      <th>1</th>\n",
       "      <td>4/2/2015 16:00:00</td>\n",
       "      <td>40.66</td>\n",
       "      <td>40.74</td>\n",
       "      <td>40.12</td>\n",
       "      <td>40.29</td>\n",
       "      <td>37487476</td>\n",
       "    </tr>\n",
       "    <tr>\n",
       "      <th>2</th>\n",
       "      <td>4/6/2015 16:00:00</td>\n",
       "      <td>40.34</td>\n",
       "      <td>41.78</td>\n",
       "      <td>40.18</td>\n",
       "      <td>41.55</td>\n",
       "      <td>39223692</td>\n",
       "    </tr>\n",
       "    <tr>\n",
       "      <th>3</th>\n",
       "      <td>4/7/2015 16:00:00</td>\n",
       "      <td>41.61</td>\n",
       "      <td>41.91</td>\n",
       "      <td>41.31</td>\n",
       "      <td>41.53</td>\n",
       "      <td>28809375</td>\n",
       "    </tr>\n",
       "    <tr>\n",
       "      <th>4</th>\n",
       "      <td>4/8/2015 16:00:00</td>\n",
       "      <td>41.48</td>\n",
       "      <td>41.69</td>\n",
       "      <td>41.04</td>\n",
       "      <td>41.42</td>\n",
       "      <td>24753438</td>\n",
       "    </tr>\n",
       "    <tr>\n",
       "      <th>5</th>\n",
       "      <td>4/9/2015 16:00:00</td>\n",
       "      <td>41.25</td>\n",
       "      <td>41.62</td>\n",
       "      <td>41.25</td>\n",
       "      <td>41.48</td>\n",
       "      <td>25723861</td>\n",
       "    </tr>\n",
       "    <tr>\n",
       "      <th>6</th>\n",
       "      <td>4/10/2015 16:00:00</td>\n",
       "      <td>41.63</td>\n",
       "      <td>41.95</td>\n",
       "      <td>41.41</td>\n",
       "      <td>41.72</td>\n",
       "      <td>28022002</td>\n",
       "    </tr>\n",
       "    <tr>\n",
       "      <th>7</th>\n",
       "      <td>4/13/2015 16:00:00</td>\n",
       "      <td>41.40</td>\n",
       "      <td>42.06</td>\n",
       "      <td>41.39</td>\n",
       "      <td>41.76</td>\n",
       "      <td>30276692</td>\n",
       "    </tr>\n",
       "    <tr>\n",
       "      <th>8</th>\n",
       "      <td>4/14/2015 16:00:00</td>\n",
       "      <td>41.80</td>\n",
       "      <td>42.03</td>\n",
       "      <td>41.39</td>\n",
       "      <td>41.65</td>\n",
       "      <td>24244382</td>\n",
       "    </tr>\n",
       "    <tr>\n",
       "      <th>9</th>\n",
       "      <td>4/15/2015 16:00:00</td>\n",
       "      <td>41.76</td>\n",
       "      <td>42.46</td>\n",
       "      <td>41.68</td>\n",
       "      <td>42.26</td>\n",
       "      <td>27343581</td>\n",
       "    </tr>\n",
       "  </tbody>\n",
       "</table>\n",
       "</div>"
      ],
      "text/plain": [
       "                 Date   Open   High    Low  Close    Volume\n",
       "0   4/1/2015 16:00:00  40.60  40.76  40.31  40.72  36865322\n",
       "1   4/2/2015 16:00:00  40.66  40.74  40.12  40.29  37487476\n",
       "2   4/6/2015 16:00:00  40.34  41.78  40.18  41.55  39223692\n",
       "3   4/7/2015 16:00:00  41.61  41.91  41.31  41.53  28809375\n",
       "4   4/8/2015 16:00:00  41.48  41.69  41.04  41.42  24753438\n",
       "5   4/9/2015 16:00:00  41.25  41.62  41.25  41.48  25723861\n",
       "6  4/10/2015 16:00:00  41.63  41.95  41.41  41.72  28022002\n",
       "7  4/13/2015 16:00:00  41.40  42.06  41.39  41.76  30276692\n",
       "8  4/14/2015 16:00:00  41.80  42.03  41.39  41.65  24244382\n",
       "9  4/15/2015 16:00:00  41.76  42.46  41.68  42.26  27343581"
      ]
     },
     "execution_count": 64,
     "metadata": {},
     "output_type": "execute_result"
    }
   ],
   "source": [
    "data.head(10)"
   ]
  },
  {
   "cell_type": "code",
   "execution_count": 65,
   "id": "a2a31848",
   "metadata": {},
   "outputs": [
    {
     "data": {
      "text/plain": [
       "<AxesSubplot:>"
      ]
     },
     "execution_count": 65,
     "metadata": {},
     "output_type": "execute_result"
    },
    {
     "data": {
      "image/png": "[encoded data removed]",
      "text/plain": [
       "<Figure size 1080x360 with 1 Axes>"
      ]
     },
     "metadata": {
      "needs_background": "light"
     },
     "output_type": "display_data"
    }
   ],
   "source": [
    "data['Volume'].plot(figsize=(15,5))"
   ]
  },
  {
   "cell_type": "code",
   "execution_count": 66,
   "id": "17498437",
   "metadata": {},
   "outputs": [],
   "source": [
    "from statsmodels.tsa.stattools import adfuller"
   ]
  },
  {
   "cell_type": "code",
   "execution_count": 67,
   "id": "59e10a7a",
   "metadata": {},
   "outputs": [],
   "source": [
    "def adtest(dataset):\n",
    "    dftest = adfuller(dataset, autolag=\"AIC\")\n",
    "    print(\"1. ADF : \", dftest[0])\n",
    "    print(\"2. P-VALUES : \", dftest[1])\n",
    "    print(\"3. NUM OF LAGS : \", dftest[2])\n",
    "    print(\"4. NUM OF OBSERVATIONS USED FOR THE ADF REGRESSION AND CRITICAL VALUES CALCULATION : \", dftest[3])\n",
    "    print(\"5. CRITICAL VALUES : \")\n",
    "    for key, val in dftest[4].items():\n",
    "        print(\"\\t\", key, \": \",val)"
   ]
  },
  {
   "cell_type": "code",
   "execution_count": 68,
   "id": "d95c6640",
   "metadata": {},
   "outputs": [
    {
     "name": "stdout",
     "output_type": "stream",
     "text": [
      "1. ADF :  1.5704194623040229\n",
      "2. P-VALUES :  0.997766061521655\n",
      "3. NUM OF LAGS :  14\n",
      "4. NUM OF OBSERVATIONS USED FOR THE ADF REGRESSION AND CRITICAL VALUES CALCULATION :  1496\n",
      "5. CRITICAL VALUES : \n",
      "\t 1% :  -3.4347287139577753\n",
      "\t 5% :  -2.8634739225299133\n",
      "\t 10% :  -2.5677995973755325\n"
     ]
    }
   ],
   "source": [
    "adtest(data['High'])"
   ]
  },
  {
   "cell_type": "code",
   "execution_count": 69,
   "id": "e8f5cfda",
   "metadata": {},
   "outputs": [],
   "source": [
    "from pmdarima import auto_arima\n",
    "\n",
    "import warnings \n",
    "warnings.filterwarnings(\"ignore\")"
   ]
  },
  {
   "cell_type": "code",
   "execution_count": 70,
   "id": "b9891046",
   "metadata": {
    "scrolled": true
   },
   "outputs": [
    {
     "name": "stdout",
     "output_type": "stream",
     "text": [
      "Performing stepwise search to minimize aic\n",
      " ARIMA(2,1,2)(0,0,0)[0] intercept   : AIC=53180.693, Time=1.92 sec\n",
      " ARIMA(0,1,0)(0,0,0)[0] intercept   : AIC=53558.598, Time=0.04 sec\n",
      " ARIMA(1,1,0)(0,0,0)[0] intercept   : AIC=53398.605, Time=0.10 sec\n",
      " ARIMA(0,1,1)(0,0,0)[0] intercept   : AIC=53273.061, Time=0.17 sec\n",
      " ARIMA(0,1,0)(0,0,0)[0]             : AIC=53556.598, Time=0.03 sec\n",
      " ARIMA(1,1,2)(0,0,0)[0] intercept   : AIC=53181.876, Time=0.86 sec\n",
      " ARIMA(2,1,1)(0,0,0)[0] intercept   : AIC=53184.842, Time=0.53 sec\n",
      " ARIMA(3,1,2)(0,0,0)[0] intercept   : AIC=53184.559, Time=1.32 sec\n",
      " ARIMA(2,1,3)(0,0,0)[0] intercept   : AIC=53181.929, Time=1.42 sec\n",
      " ARIMA(1,1,1)(0,0,0)[0] intercept   : AIC=53187.262, Time=0.37 sec\n",
      " ARIMA(1,1,3)(0,0,0)[0] intercept   : AIC=53179.922, Time=1.80 sec\n",
      " ARIMA(0,1,3)(0,0,0)[0] intercept   : AIC=53194.855, Time=0.50 sec\n",
      " ARIMA(1,1,4)(0,0,0)[0] intercept   : AIC=53179.198, Time=2.25 sec\n",
      " ARIMA(0,1,4)(0,0,0)[0] intercept   : AIC=53190.950, Time=0.57 sec\n",
      " ARIMA(2,1,4)(0,0,0)[0] intercept   : AIC=53181.403, Time=1.56 sec\n",
      " ARIMA(1,1,5)(0,0,0)[0] intercept   : AIC=53181.741, Time=2.84 sec\n",
      " ARIMA(0,1,5)(0,0,0)[0] intercept   : AIC=53189.666, Time=0.68 sec\n",
      " ARIMA(2,1,5)(0,0,0)[0] intercept   : AIC=53182.413, Time=2.10 sec\n",
      " ARIMA(1,1,4)(0,0,0)[0]             : AIC=inf, Time=2.52 sec\n",
      "\n",
      "Best model:  ARIMA(1,1,4)(0,0,0)[0] intercept\n",
      "Total fit time: 21.576 seconds\n"
     ]
    },
    {
     "data": {
      "text/html": [
       "<table class=\"simpletable\">\n",
       "<caption>SARIMAX Results</caption>\n",
       "<tr>\n",
       "  <th>Dep. Variable:</th>           <td>y</td>        <th>  No. Observations:  </th>    <td>1511</td>   \n",
       "</tr>\n",
       "<tr>\n",
       "  <th>Model:</th>           <td>SARIMAX(1, 1, 4)</td> <th>  Log Likelihood     </th> <td>-26582.599</td>\n",
       "</tr>\n",
       "<tr>\n",
       "  <th>Date:</th>            <td>Tue, 29 Nov 2022</td> <th>  AIC                </th>  <td>53179.198</td>\n",
       "</tr>\n",
       "<tr>\n",
       "  <th>Time:</th>                <td>11:20:24</td>     <th>  BIC                </th>  <td>53216.437</td>\n",
       "</tr>\n",
       "<tr>\n",
       "  <th>Sample:</th>                  <td>0</td>        <th>  HQIC               </th>  <td>53193.067</td>\n",
       "</tr>\n",
       "<tr>\n",
       "  <th></th>                      <td> - 1511</td>     <th>                     </th>      <td> </td>    \n",
       "</tr>\n",
       "<tr>\n",
       "  <th>Covariance Type:</th>        <td>opg</td>       <th>                     </th>      <td> </td>    \n",
       "</tr>\n",
       "</table>\n",
       "<table class=\"simpletable\">\n",
       "<tr>\n",
       "      <td></td>         <th>coef</th>     <th>std err</th>      <th>z</th>      <th>P>|z|</th>  <th>[0.025</th>    <th>0.975]</th>  \n",
       "</tr>\n",
       "<tr>\n",
       "  <th>intercept</th> <td>-3916.1095</td> <td> 4606.076</td> <td>   -0.850</td> <td> 0.395</td> <td>-1.29e+04</td> <td> 5111.634</td>\n",
       "</tr>\n",
       "<tr>\n",
       "  <th>ar.L1</th>     <td>    0.8457</td> <td>    0.055</td> <td>   15.342</td> <td> 0.000</td> <td>    0.738</td> <td>    0.954</td>\n",
       "</tr>\n",
       "<tr>\n",
       "  <th>ma.L1</th>     <td>   -1.3579</td> <td>    0.057</td> <td>  -23.947</td> <td> 0.000</td> <td>   -1.469</td> <td>   -1.247</td>\n",
       "</tr>\n",
       "<tr>\n",
       "  <th>ma.L2</th>     <td>    0.2676</td> <td>    0.045</td> <td>    5.887</td> <td> 0.000</td> <td>    0.178</td> <td>    0.357</td>\n",
       "</tr>\n",
       "<tr>\n",
       "  <th>ma.L3</th>     <td>    0.0766</td> <td>    0.050</td> <td>    1.542</td> <td> 0.123</td> <td>   -0.021</td> <td>    0.174</td>\n",
       "</tr>\n",
       "<tr>\n",
       "  <th>ma.L4</th>     <td>    0.0278</td> <td>    0.036</td> <td>    0.776</td> <td> 0.438</td> <td>   -0.043</td> <td>    0.098</td>\n",
       "</tr>\n",
       "<tr>\n",
       "  <th>sigma2</th>    <td> 1.118e+14</td> <td> 1.05e-05</td> <td> 1.06e+19</td> <td> 0.000</td> <td> 1.12e+14</td> <td> 1.12e+14</td>\n",
       "</tr>\n",
       "</table>\n",
       "<table class=\"simpletable\">\n",
       "<tr>\n",
       "  <th>Ljung-Box (L1) (Q):</th>     <td>0.00</td> <th>  Jarque-Bera (JB):  </th> <td>24518.45</td>\n",
       "</tr>\n",
       "<tr>\n",
       "  <th>Prob(Q):</th>                <td>0.95</td> <th>  Prob(JB):          </th>   <td>0.00</td>  \n",
       "</tr>\n",
       "<tr>\n",
       "  <th>Heteroskedasticity (H):</th> <td>0.44</td> <th>  Skew:              </th>   <td>2.82</td>  \n",
       "</tr>\n",
       "<tr>\n",
       "  <th>Prob(H) (two-sided):</th>    <td>0.00</td> <th>  Kurtosis:          </th>   <td>21.92</td> \n",
       "</tr>\n",
       "</table><br/><br/>Warnings:<br/>[1] Covariance matrix calculated using the outer product of gradients (complex-step).<br/>[2] Covariance matrix is singular or near-singular, with condition number 7.14e+33. Standard errors may be unstable."
      ],
      "text/plain": [
       "<class 'statsmodels.iolib.summary.Summary'>\n",
       "\"\"\"\n",
       "                               SARIMAX Results                                \n",
       "==============================================================================\n",
       "Dep. Variable:                      y   No. Observations:                 1511\n",
       "Model:               SARIMAX(1, 1, 4)   Log Likelihood              -26582.599\n",
       "Date:                Tue, 29 Nov 2022   AIC                          53179.198\n",
       "Time:                        11:20:24   BIC                          53216.437\n",
       "Sample:                             0   HQIC                         53193.067\n",
       "                               - 1511                                         \n",
       "Covariance Type:                  opg                                         \n",
       "==============================================================================\n",
       "                 coef    std err          z      P>|z|      [0.025      0.975]\n",
       "------------------------------------------------------------------------------\n",
       "intercept  -3916.1095   4606.076     -0.850      0.395   -1.29e+04    5111.634\n",
       "ar.L1          0.8457      0.055     15.342      0.000       0.738       0.954\n",
       "ma.L1         -1.3579      0.057    -23.947      0.000      -1.469      -1.247\n",
       "ma.L2          0.2676      0.045      5.887      0.000       0.178       0.357\n",
       "ma.L3          0.0766      0.050      1.542      0.123      -0.021       0.174\n",
       "ma.L4          0.0278      0.036      0.776      0.438      -0.043       0.098\n",
       "sigma2      1.118e+14   1.05e-05   1.06e+19      0.000    1.12e+14    1.12e+14\n",
       "===================================================================================\n",
       "Ljung-Box (L1) (Q):                   0.00   Jarque-Bera (JB):             24518.45\n",
       "Prob(Q):                              0.95   Prob(JB):                         0.00\n",
       "Heteroskedasticity (H):               0.44   Skew:                             2.82\n",
       "Prob(H) (two-sided):                  0.00   Kurtosis:                        21.92\n",
       "===================================================================================\n",
       "\n",
       "Warnings:\n",
       "[1] Covariance matrix calculated using the outer product of gradients (complex-step).\n",
       "[2] Covariance matrix is singular or near-singular, with condition number 7.14e+33. Standard errors may be unstable.\n",
       "\"\"\""
      ]
     },
     "execution_count": 70,
     "metadata": {},
     "output_type": "execute_result"
    }
   ],
   "source": [
    "hyundai_fit = auto_arima(data['Volume'],trace=True,\n",
    "                        suppress_warnings=True)\n",
    "hyundai_fit.summary()"
   ]
  },
  {
   "cell_type": "code",
   "execution_count": 71,
   "id": "8a1baa3f",
   "metadata": {},
   "outputs": [],
   "source": [
    "from statsmodels.tsa.arima.model import ARIMA"
   ]
  },
  {
   "cell_type": "code",
   "execution_count": 101,
   "id": "7237b0ad",
   "metadata": {},
   "outputs": [
    {
     "name": "stdout",
     "output_type": "stream",
     "text": [
      "(1511, 6)\n",
      "(1481, 6) (30, 6)\n"
     ]
    }
   ],
   "source": [
    "print(data.shape)\n",
    "train = data.iloc[:-30]\n",
    "test = data.iloc[-30:]\n",
    "print(train.shape, test.shape)"
   ]
  },
  {
   "cell_type": "code",
   "execution_count": 102,
   "id": "31b19555",
   "metadata": {},
   "outputs": [
    {
     "data": {
      "text/html": [
       "<table class=\"simpletable\">\n",
       "<caption>SARIMAX Results</caption>\n",
       "<tr>\n",
       "  <th>Dep. Variable:</th>        <td>Volume</td>      <th>  No. Observations:  </th>    <td>1481</td>   \n",
       "</tr>\n",
       "<tr>\n",
       "  <th>Model:</th>            <td>ARIMA(1, 1, 4)</td>  <th>  Log Likelihood     </th> <td>-26070.349</td>\n",
       "</tr>\n",
       "<tr>\n",
       "  <th>Date:</th>            <td>Tue, 29 Nov 2022</td> <th>  AIC                </th>  <td>52152.698</td>\n",
       "</tr>\n",
       "<tr>\n",
       "  <th>Time:</th>                <td>11:23:53</td>     <th>  BIC                </th>  <td>52184.497</td>\n",
       "</tr>\n",
       "<tr>\n",
       "  <th>Sample:</th>                  <td>0</td>        <th>  HQIC               </th>  <td>52164.553</td>\n",
       "</tr>\n",
       "<tr>\n",
       "  <th></th>                      <td> - 1481</td>     <th>                     </th>      <td> </td>    \n",
       "</tr>\n",
       "<tr>\n",
       "  <th>Covariance Type:</th>        <td>opg</td>       <th>                     </th>      <td> </td>    \n",
       "</tr>\n",
       "</table>\n",
       "<table class=\"simpletable\">\n",
       "<tr>\n",
       "     <td></td>       <th>coef</th>     <th>std err</th>      <th>z</th>      <th>P>|z|</th>  <th>[0.025</th>    <th>0.975]</th>  \n",
       "</tr>\n",
       "<tr>\n",
       "  <th>ar.L1</th>  <td>   -0.4235</td> <td>    0.332</td> <td>   -1.275</td> <td> 0.202</td> <td>   -1.075</td> <td>    0.228</td>\n",
       "</tr>\n",
       "<tr>\n",
       "  <th>ma.L1</th>  <td>   -0.0824</td> <td>    0.332</td> <td>   -0.248</td> <td> 0.804</td> <td>   -0.734</td> <td>    0.569</td>\n",
       "</tr>\n",
       "<tr>\n",
       "  <th>ma.L2</th>  <td>   -0.3887</td> <td>    0.172</td> <td>   -2.258</td> <td> 0.024</td> <td>   -0.726</td> <td>   -0.051</td>\n",
       "</tr>\n",
       "<tr>\n",
       "  <th>ma.L3</th>  <td>   -0.1585</td> <td>    0.074</td> <td>   -2.136</td> <td> 0.033</td> <td>   -0.304</td> <td>   -0.013</td>\n",
       "</tr>\n",
       "<tr>\n",
       "  <th>ma.L4</th>  <td>   -0.0985</td> <td>    0.039</td> <td>   -2.536</td> <td> 0.011</td> <td>   -0.175</td> <td>   -0.022</td>\n",
       "</tr>\n",
       "<tr>\n",
       "  <th>sigma2</th> <td> 1.129e+14</td> <td> 7.19e-14</td> <td> 1.57e+27</td> <td> 0.000</td> <td> 1.13e+14</td> <td> 1.13e+14</td>\n",
       "</tr>\n",
       "</table>\n",
       "<table class=\"simpletable\">\n",
       "<tr>\n",
       "  <th>Ljung-Box (L1) (Q):</th>     <td>0.01</td> <th>  Jarque-Bera (JB):  </th> <td>23757.29</td>\n",
       "</tr>\n",
       "<tr>\n",
       "  <th>Prob(Q):</th>                <td>0.92</td> <th>  Prob(JB):          </th>   <td>0.00</td>  \n",
       "</tr>\n",
       "<tr>\n",
       "  <th>Heteroskedasticity (H):</th> <td>0.43</td> <th>  Skew:              </th>   <td>2.80</td>  \n",
       "</tr>\n",
       "<tr>\n",
       "  <th>Prob(H) (two-sided):</th>    <td>0.00</td> <th>  Kurtosis:          </th>   <td>21.81</td> \n",
       "</tr>\n",
       "</table><br/><br/>Warnings:<br/>[1] Covariance matrix calculated using the outer product of gradients (complex-step).<br/>[2] Covariance matrix is singular or near-singular, with condition number 5.46e+41. Standard errors may be unstable."
      ],
      "text/plain": [
       "<class 'statsmodels.iolib.summary.Summary'>\n",
       "\"\"\"\n",
       "                               SARIMAX Results                                \n",
       "==============================================================================\n",
       "Dep. Variable:                 Volume   No. Observations:                 1481\n",
       "Model:                 ARIMA(1, 1, 4)   Log Likelihood              -26070.349\n",
       "Date:                Tue, 29 Nov 2022   AIC                          52152.698\n",
       "Time:                        11:23:53   BIC                          52184.497\n",
       "Sample:                             0   HQIC                         52164.553\n",
       "                               - 1481                                         \n",
       "Covariance Type:                  opg                                         \n",
       "==============================================================================\n",
       "                 coef    std err          z      P>|z|      [0.025      0.975]\n",
       "------------------------------------------------------------------------------\n",
       "ar.L1         -0.4235      0.332     -1.275      0.202      -1.075       0.228\n",
       "ma.L1         -0.0824      0.332     -0.248      0.804      -0.734       0.569\n",
       "ma.L2         -0.3887      0.172     -2.258      0.024      -0.726      -0.051\n",
       "ma.L3         -0.1585      0.074     -2.136      0.033      -0.304      -0.013\n",
       "ma.L4         -0.0985      0.039     -2.536      0.011      -0.175      -0.022\n",
       "sigma2      1.129e+14   7.19e-14   1.57e+27      0.000    1.13e+14    1.13e+14\n",
       "===================================================================================\n",
       "Ljung-Box (L1) (Q):                   0.01   Jarque-Bera (JB):             23757.29\n",
       "Prob(Q):                              0.92   Prob(JB):                         0.00\n",
       "Heteroskedasticity (H):               0.43   Skew:                             2.80\n",
       "Prob(H) (two-sided):                  0.00   Kurtosis:                        21.81\n",
       "===================================================================================\n",
       "\n",
       "Warnings:\n",
       "[1] Covariance matrix calculated using the outer product of gradients (complex-step).\n",
       "[2] Covariance matrix is singular or near-singular, with condition number 5.46e+41. Standard errors may be unstable.\n",
       "\"\"\""
      ]
     },
     "execution_count": 102,
     "metadata": {},
     "output_type": "execute_result"
    }
   ],
   "source": [
    "model = ARIMA(train['Volume'], order=(1,1,4))\n",
    "model = model.fit()\n",
    "model.summary()"
   ]
  },
  {
   "cell_type": "markdown",
   "id": "cba471b0",
   "metadata": {},
   "source": [
    "### Make predictions on test data set"
   ]
  },
  {
   "cell_type": "code",
   "execution_count": 103,
   "id": "96b89b4a",
   "metadata": {},
   "outputs": [
    {
     "name": "stdout",
     "output_type": "stream",
     "text": [
      "1481    2.439660e+07\n",
      "1482    2.497624e+07\n",
      "1483    2.504544e+07\n",
      "1484    2.549572e+07\n",
      "1485    2.530505e+07\n",
      "1486    2.538579e+07\n",
      "1487    2.535160e+07\n",
      "1488    2.536608e+07\n",
      "1489    2.535995e+07\n",
      "1490    2.536254e+07\n",
      "1491    2.536144e+07\n",
      "1492    2.536191e+07\n",
      "1493    2.536171e+07\n",
      "1494    2.536179e+07\n",
      "1495    2.536176e+07\n",
      "1496    2.536177e+07\n",
      "1497    2.536177e+07\n",
      "1498    2.536177e+07\n",
      "1499    2.536177e+07\n",
      "1500    2.536177e+07\n",
      "1501    2.536177e+07\n",
      "1502    2.536177e+07\n",
      "1503    2.536177e+07\n",
      "1504    2.536177e+07\n",
      "1505    2.536177e+07\n",
      "1506    2.536177e+07\n",
      "1507    2.536177e+07\n",
      "1508    2.536177e+07\n",
      "1509    2.536177e+07\n",
      "1510    2.536177e+07\n",
      "Name: predicted_mean, dtype: float64\n",
      "1481    2.439660e+07\n",
      "1482    2.497624e+07\n",
      "1483    2.504544e+07\n",
      "1484    2.549572e+07\n",
      "1485    2.530505e+07\n",
      "1486    2.538579e+07\n",
      "1487    2.535160e+07\n",
      "1488    2.536608e+07\n",
      "1489    2.535995e+07\n",
      "1490    2.536254e+07\n",
      "1491    2.536144e+07\n",
      "1492    2.536191e+07\n",
      "1493    2.536171e+07\n",
      "1494    2.536179e+07\n",
      "1495    2.536176e+07\n",
      "1496    2.536177e+07\n",
      "1497    2.536177e+07\n",
      "1498    2.536177e+07\n",
      "1499    2.536177e+07\n",
      "1500    2.536177e+07\n",
      "1501    2.536177e+07\n",
      "1502    2.536177e+07\n",
      "1503    2.536177e+07\n",
      "1504    2.536177e+07\n",
      "1505    2.536177e+07\n",
      "1506    2.536177e+07\n",
      "1507    2.536177e+07\n",
      "1508    2.536177e+07\n",
      "1509    2.536177e+07\n",
      "1510    2.536177e+07\n",
      "Name: predicted_mean, dtype: float64\n"
     ]
    }
   ],
   "source": [
    "start = len(train)\n",
    "end = len(train)+len(test)-1\n",
    "pred = model.predict(start=start, end = end, typ='levels')\n",
    "print(pred)\n",
    "pred.index = data.index[start:end+1]\n",
    "print(pred)"
   ]
  },
  {
   "cell_type": "code",
   "execution_count": 93,
   "id": "d5b300b8",
   "metadata": {},
   "outputs": [
    {
     "data": {
      "text/plain": [
       "<AxesSubplot:>"
      ]
     },
     "execution_count": 93,
     "metadata": {},
     "output_type": "execute_result"
    },
    {
     "data": {
      "image/png": "[encoded data removed]",
      "text/plain": [
       "<Figure size 432x288 with 1 Axes>"
      ]
     },
     "metadata": {
      "needs_background": "light"
     },
     "output_type": "display_data"
    }
   ],
   "source": [
    "pred.plot(legend=True)\n",
    "test['Volume'].plot(legend=True)"
   ]
  },
  {
   "cell_type": "code",
   "execution_count": 76,
   "id": "ea10c4fb",
   "metadata": {},
   "outputs": [
    {
     "data": {
      "text/plain": [
       "236.67900000000003"
      ]
     },
     "execution_count": 76,
     "metadata": {},
     "output_type": "execute_result"
    }
   ],
   "source": [
    "test['High'].mean()"
   ]
  },
  {
   "cell_type": "code",
   "execution_count": 77,
   "id": "8dc1124a",
   "metadata": {},
   "outputs": [
    {
     "name": "stdout",
     "output_type": "stream",
     "text": [
      "22185650.913776767\n"
     ]
    }
   ],
   "source": [
    "from sklearn.metrics import mean_squared_error\n",
    "from math import sqrt\n",
    "rmse = sqrt(mean_squared_error(pred, test['High']))\n",
    "print(rmse)"
   ]
  },
  {
   "cell_type": "code",
   "execution_count": 78,
   "id": "9faa3631",
   "metadata": {},
   "outputs": [
    {
     "data": {
      "text/html": [
       "<div>\n",
       "<style scoped>\n",
       "    .dataframe tbody tr th:only-of-type {\n",
       "        vertical-align: middle;\n",
       "    }\n",
       "\n",
       "    .dataframe tbody tr th {\n",
       "        vertical-align: top;\n",
       "    }\n",
       "\n",
       "    .dataframe thead th {\n",
       "        text-align: right;\n",
       "    }\n",
       "</style>\n",
       "<table border=\"1\" class=\"dataframe\">\n",
       "  <thead>\n",
       "    <tr style=\"text-align: right;\">\n",
       "      <th></th>\n",
       "      <th>Date</th>\n",
       "      <th>Open</th>\n",
       "      <th>High</th>\n",
       "      <th>Low</th>\n",
       "      <th>Close</th>\n",
       "      <th>Volume</th>\n",
       "    </tr>\n",
       "  </thead>\n",
       "  <tbody>\n",
       "    <tr>\n",
       "      <th>1506</th>\n",
       "      <td>3/25/2021 16:00:00</td>\n",
       "      <td>235.30</td>\n",
       "      <td>236.94</td>\n",
       "      <td>231.57</td>\n",
       "      <td>232.34</td>\n",
       "      <td>34061853</td>\n",
       "    </tr>\n",
       "    <tr>\n",
       "      <th>1507</th>\n",
       "      <td>3/26/2021 16:00:00</td>\n",
       "      <td>231.55</td>\n",
       "      <td>236.71</td>\n",
       "      <td>231.55</td>\n",
       "      <td>236.48</td>\n",
       "      <td>25479853</td>\n",
       "    </tr>\n",
       "    <tr>\n",
       "      <th>1508</th>\n",
       "      <td>3/29/2021 16:00:00</td>\n",
       "      <td>236.59</td>\n",
       "      <td>236.80</td>\n",
       "      <td>231.88</td>\n",
       "      <td>235.24</td>\n",
       "      <td>25227455</td>\n",
       "    </tr>\n",
       "    <tr>\n",
       "      <th>1509</th>\n",
       "      <td>3/30/2021 16:00:00</td>\n",
       "      <td>233.53</td>\n",
       "      <td>233.85</td>\n",
       "      <td>231.10</td>\n",
       "      <td>231.85</td>\n",
       "      <td>24792012</td>\n",
       "    </tr>\n",
       "    <tr>\n",
       "      <th>1510</th>\n",
       "      <td>3/31/2021 16:00:00</td>\n",
       "      <td>232.91</td>\n",
       "      <td>239.10</td>\n",
       "      <td>232.39</td>\n",
       "      <td>235.77</td>\n",
       "      <td>43623471</td>\n",
       "    </tr>\n",
       "  </tbody>\n",
       "</table>\n",
       "</div>"
      ],
      "text/plain": [
       "                    Date    Open    High     Low   Close    Volume\n",
       "1506  3/25/2021 16:00:00  235.30  236.94  231.57  232.34  34061853\n",
       "1507  3/26/2021 16:00:00  231.55  236.71  231.55  236.48  25479853\n",
       "1508  3/29/2021 16:00:00  236.59  236.80  231.88  235.24  25227455\n",
       "1509  3/30/2021 16:00:00  233.53  233.85  231.10  231.85  24792012\n",
       "1510  3/31/2021 16:00:00  232.91  239.10  232.39  235.77  43623471"
      ]
     },
     "execution_count": 78,
     "metadata": {},
     "output_type": "execute_result"
    }
   ],
   "source": [
    "data.tail()"
   ]
  },
  {
   "cell_type": "markdown",
   "id": "f2cb6928",
   "metadata": {},
   "source": [
    "### Future Prediction"
   ]
  },
  {
   "cell_type": "code",
   "execution_count": 79,
   "id": "b9e49f63",
   "metadata": {},
   "outputs": [
    {
     "name": "stdout",
     "output_type": "stream",
     "text": [
      "2022-11-28    2.219930e+07\n",
      "2022-11-29    2.219930e+07\n",
      "2022-11-30    2.219930e+07\n",
      "2022-12-01    2.219930e+07\n",
      "2022-12-02    2.219930e+07\n",
      "2022-12-03    2.219930e+07\n",
      "2022-12-04    2.219930e+07\n",
      "2022-12-05    2.219930e+07\n",
      "2022-12-06    2.219930e+07\n",
      "2022-12-07    2.219930e+07\n",
      "2022-12-08    2.219930e+07\n",
      "2022-12-09    2.219930e+07\n",
      "2022-12-10    2.219930e+07\n",
      "2022-12-11    2.219930e+07\n",
      "2022-12-12    2.219930e+07\n",
      "2022-12-13    2.219930e+07\n",
      "2022-12-14    2.219930e+07\n",
      "2022-12-15    2.219930e+07\n",
      "2022-12-16    2.219930e+07\n",
      "2022-12-17    2.219930e+07\n",
      "2022-12-18    2.219930e+07\n",
      "2022-12-19    2.219930e+07\n",
      "2022-12-20    2.219930e+07\n",
      "2022-12-21    2.219930e+07\n",
      "2022-12-22    2.219930e+07\n",
      "2022-12-23    2.219930e+07\n",
      "2022-12-24    2.219930e+07\n",
      "2022-12-25    2.219930e+07\n",
      "2022-12-26    2.219930e+07\n",
      "2022-12-27    2.219930e+07\n",
      "2022-12-28    2.219930e+07\n",
      "Freq: D, Name: ARIMA predictions, dtype: float64\n"
     ]
    }
   ],
   "source": [
    "index_future_dates = pd.date_range(start='2022-11-28', end='2022-12-28')\n",
    "pred1 = pred\n",
    "pred = model.predict(start=len(data), end=len(data)+30, typ = 'levels').rename('ARIMA predictions')\n",
    "pred.index = index_future_dates\n",
    "print(pred)"
   ]
  },
  {
   "cell_type": "code",
   "execution_count": 80,
   "id": "bfe4a30c",
   "metadata": {},
   "outputs": [],
   "source": [
    "x = data.iloc[:,:-1]\n",
    "y = data.iloc[:,-1]"
   ]
  },
  {
   "cell_type": "code",
   "execution_count": 81,
   "id": "60b2a119",
   "metadata": {},
   "outputs": [],
   "source": [
    "from sklearn.model_selection import train_test_split\n",
    "from sklearn.metrics import confusion_matrix, classification_report"
   ]
  },
  {
   "cell_type": "code",
   "execution_count": 82,
   "id": "129771b2",
   "metadata": {},
   "outputs": [],
   "source": [
    "x_train,x_test,y_train,y_test = train_test_split(x,y,test_size=0.35)"
   ]
  },
  {
   "cell_type": "code",
   "execution_count": 83,
   "id": "738f5a2f",
   "metadata": {},
   "outputs": [
    {
     "data": {
      "text/plain": [
       "Date       object\n",
       "Open      float64\n",
       "High      float64\n",
       "Low       float64\n",
       "Close     float64\n",
       "Volume      int64\n",
       "dtype: object"
      ]
     },
     "execution_count": 83,
     "metadata": {},
     "output_type": "execute_result"
    }
   ],
   "source": [
    "data.dtypes"
   ]
  },
  {
   "cell_type": "code",
   "execution_count": 84,
   "id": "180ad452",
   "metadata": {},
   "outputs": [],
   "source": [
    "from sklearn.preprocessing import LabelEncoder\n",
    "lb = LabelEncoder()"
   ]
  },
  {
   "cell_type": "code",
   "execution_count": 85,
   "id": "8af5373e",
   "metadata": {},
   "outputs": [
    {
     "ename": "ValueError",
     "evalue": "Length of values (1) does not match length of index (1511)",
     "output_type": "error",
     "traceback": [
      "\u001b[1;31m---------------------------------------------------------------------------\u001b[0m",
      "\u001b[1;31mValueError\u001b[0m                                Traceback (most recent call last)",
      "Input \u001b[1;32mIn [85]\u001b[0m, in \u001b[0;36m<cell line: 1>\u001b[1;34m()\u001b[0m\n\u001b[1;32m----> 1\u001b[0m data[\u001b[38;5;124m\"\u001b[39m\u001b[38;5;124mDate\u001b[39m\u001b[38;5;124m\"\u001b[39m]\u001b[38;5;241m=\u001b[39mlb\u001b[38;5;241m.\u001b[39mfit_transform(\n\u001b[0;32m      2\u001b[0m     [\u001b[38;5;124m\"\u001b[39m\u001b[38;5;124mDate\u001b[39m\u001b[38;5;124m\"\u001b[39m])\n\u001b[0;32m      3\u001b[0m data\u001b[38;5;241m.\u001b[39mdtypes\n",
      "File \u001b[1;32m~\\AppData\\Local\\Programs\\Python\\Python310\\lib\\site-packages\\pandas\\core\\frame.py:3655\u001b[0m, in \u001b[0;36mDataFrame.__setitem__\u001b[1;34m(self, key, value)\u001b[0m\n\u001b[0;32m   3652\u001b[0m     \u001b[38;5;28mself\u001b[39m\u001b[38;5;241m.\u001b[39m_setitem_array([key], value)\n\u001b[0;32m   3653\u001b[0m \u001b[38;5;28;01melse\u001b[39;00m:\n\u001b[0;32m   3654\u001b[0m     \u001b[38;5;66;03m# set column\u001b[39;00m\n\u001b[1;32m-> 3655\u001b[0m     \u001b[38;5;28;43mself\u001b[39;49m\u001b[38;5;241;43m.\u001b[39;49m\u001b[43m_set_item\u001b[49m\u001b[43m(\u001b[49m\u001b[43mkey\u001b[49m\u001b[43m,\u001b[49m\u001b[43m \u001b[49m\u001b[43mvalue\u001b[49m\u001b[43m)\u001b[49m\n",
      "File \u001b[1;32m~\\AppData\\Local\\Programs\\Python\\Python310\\lib\\site-packages\\pandas\\core\\frame.py:3832\u001b[0m, in \u001b[0;36mDataFrame._set_item\u001b[1;34m(self, key, value)\u001b[0m\n\u001b[0;32m   3822\u001b[0m \u001b[38;5;28;01mdef\u001b[39;00m \u001b[38;5;21m_set_item\u001b[39m(\u001b[38;5;28mself\u001b[39m, key, value) \u001b[38;5;241m-\u001b[39m\u001b[38;5;241m>\u001b[39m \u001b[38;5;28;01mNone\u001b[39;00m:\n\u001b[0;32m   3823\u001b[0m     \u001b[38;5;124;03m\"\"\"\u001b[39;00m\n\u001b[0;32m   3824\u001b[0m \u001b[38;5;124;03m    Add series to DataFrame in specified column.\u001b[39;00m\n\u001b[0;32m   3825\u001b[0m \n\u001b[1;32m   (...)\u001b[0m\n\u001b[0;32m   3830\u001b[0m \u001b[38;5;124;03m    ensure homogeneity.\u001b[39;00m\n\u001b[0;32m   3831\u001b[0m \u001b[38;5;124;03m    \"\"\"\u001b[39;00m\n\u001b[1;32m-> 3832\u001b[0m     value \u001b[38;5;241m=\u001b[39m \u001b[38;5;28;43mself\u001b[39;49m\u001b[38;5;241;43m.\u001b[39;49m\u001b[43m_sanitize_column\u001b[49m\u001b[43m(\u001b[49m\u001b[43mvalue\u001b[49m\u001b[43m)\u001b[49m\n\u001b[0;32m   3834\u001b[0m     \u001b[38;5;28;01mif\u001b[39;00m (\n\u001b[0;32m   3835\u001b[0m         key \u001b[38;5;129;01min\u001b[39;00m \u001b[38;5;28mself\u001b[39m\u001b[38;5;241m.\u001b[39mcolumns\n\u001b[0;32m   3836\u001b[0m         \u001b[38;5;129;01mand\u001b[39;00m value\u001b[38;5;241m.\u001b[39mndim \u001b[38;5;241m==\u001b[39m \u001b[38;5;241m1\u001b[39m\n\u001b[0;32m   3837\u001b[0m         \u001b[38;5;129;01mand\u001b[39;00m \u001b[38;5;129;01mnot\u001b[39;00m is_extension_array_dtype(value)\n\u001b[0;32m   3838\u001b[0m     ):\n\u001b[0;32m   3839\u001b[0m         \u001b[38;5;66;03m# broadcast across multiple columns if necessary\u001b[39;00m\n\u001b[0;32m   3840\u001b[0m         \u001b[38;5;28;01mif\u001b[39;00m \u001b[38;5;129;01mnot\u001b[39;00m \u001b[38;5;28mself\u001b[39m\u001b[38;5;241m.\u001b[39mcolumns\u001b[38;5;241m.\u001b[39mis_unique \u001b[38;5;129;01mor\u001b[39;00m \u001b[38;5;28misinstance\u001b[39m(\u001b[38;5;28mself\u001b[39m\u001b[38;5;241m.\u001b[39mcolumns, MultiIndex):\n",
      "File \u001b[1;32m~\\AppData\\Local\\Programs\\Python\\Python310\\lib\\site-packages\\pandas\\core\\frame.py:4535\u001b[0m, in \u001b[0;36mDataFrame._sanitize_column\u001b[1;34m(self, value)\u001b[0m\n\u001b[0;32m   4532\u001b[0m     \u001b[38;5;28;01mreturn\u001b[39;00m _reindex_for_setitem(value, \u001b[38;5;28mself\u001b[39m\u001b[38;5;241m.\u001b[39mindex)\n\u001b[0;32m   4534\u001b[0m \u001b[38;5;28;01mif\u001b[39;00m is_list_like(value):\n\u001b[1;32m-> 4535\u001b[0m     \u001b[43mcom\u001b[49m\u001b[38;5;241;43m.\u001b[39;49m\u001b[43mrequire_length_match\u001b[49m\u001b[43m(\u001b[49m\u001b[43mvalue\u001b[49m\u001b[43m,\u001b[49m\u001b[43m \u001b[49m\u001b[38;5;28;43mself\u001b[39;49m\u001b[38;5;241;43m.\u001b[39;49m\u001b[43mindex\u001b[49m\u001b[43m)\u001b[49m\n\u001b[0;32m   4536\u001b[0m \u001b[38;5;28;01mreturn\u001b[39;00m sanitize_array(value, \u001b[38;5;28mself\u001b[39m\u001b[38;5;241m.\u001b[39mindex, copy\u001b[38;5;241m=\u001b[39m\u001b[38;5;28;01mTrue\u001b[39;00m, allow_2d\u001b[38;5;241m=\u001b[39m\u001b[38;5;28;01mTrue\u001b[39;00m)\n",
      "File \u001b[1;32m~\\AppData\\Local\\Programs\\Python\\Python310\\lib\\site-packages\\pandas\\core\\common.py:557\u001b[0m, in \u001b[0;36mrequire_length_match\u001b[1;34m(data, index)\u001b[0m\n\u001b[0;32m    553\u001b[0m \u001b[38;5;124;03m\"\"\"\u001b[39;00m\n\u001b[0;32m    554\u001b[0m \u001b[38;5;124;03mCheck the length of data matches the length of the index.\u001b[39;00m\n\u001b[0;32m    555\u001b[0m \u001b[38;5;124;03m\"\"\"\u001b[39;00m\n\u001b[0;32m    556\u001b[0m \u001b[38;5;28;01mif\u001b[39;00m \u001b[38;5;28mlen\u001b[39m(data) \u001b[38;5;241m!=\u001b[39m \u001b[38;5;28mlen\u001b[39m(index):\n\u001b[1;32m--> 557\u001b[0m     \u001b[38;5;28;01mraise\u001b[39;00m \u001b[38;5;167;01mValueError\u001b[39;00m(\n\u001b[0;32m    558\u001b[0m         \u001b[38;5;124m\"\u001b[39m\u001b[38;5;124mLength of values \u001b[39m\u001b[38;5;124m\"\u001b[39m\n\u001b[0;32m    559\u001b[0m         \u001b[38;5;124mf\u001b[39m\u001b[38;5;124m\"\u001b[39m\u001b[38;5;124m(\u001b[39m\u001b[38;5;132;01m{\u001b[39;00m\u001b[38;5;28mlen\u001b[39m(data)\u001b[38;5;132;01m}\u001b[39;00m\u001b[38;5;124m) \u001b[39m\u001b[38;5;124m\"\u001b[39m\n\u001b[0;32m    560\u001b[0m         \u001b[38;5;124m\"\u001b[39m\u001b[38;5;124mdoes not match length of index \u001b[39m\u001b[38;5;124m\"\u001b[39m\n\u001b[0;32m    561\u001b[0m         \u001b[38;5;124mf\u001b[39m\u001b[38;5;124m\"\u001b[39m\u001b[38;5;124m(\u001b[39m\u001b[38;5;132;01m{\u001b[39;00m\u001b[38;5;28mlen\u001b[39m(index)\u001b[38;5;132;01m}\u001b[39;00m\u001b[38;5;124m)\u001b[39m\u001b[38;5;124m\"\u001b[39m\n\u001b[0;32m    562\u001b[0m     )\n",
      "\u001b[1;31mValueError\u001b[0m: Length of values (1) does not match length of index (1511)"
     ]
    }
   ],
   "source": [
    "data[\"Date\"]=lb.fit_transform(\n",
    "    [\"Date\"])\n",
    "data.dtypes"
   ]
  },
  {
   "cell_type": "code",
   "execution_count": null,
   "id": "62f9bb8b",
   "metadata": {},
   "outputs": [],
   "source": [
    "data"
   ]
  },
  {
   "cell_type": "code",
   "execution_count": null,
   "id": "bc1ac931",
   "metadata": {},
   "outputs": [],
   "source": [
    "model1 = ARIMA(train['Volume'], order=(1,1,3))\n",
    "model1 = model.fit()\n",
    "model1.summary()\n",
    "pred2 = model.predict()\n"
   ]
  },
  {
   "cell_type": "code",
   "execution_count": null,
   "id": "bb265067",
   "metadata": {},
   "outputs": [],
   "source": []
  },
  {
   "cell_type": "code",
   "execution_count": null,
   "id": "500a92f6",
   "metadata": {},
   "outputs": [],
   "source": []
  },
  {
   "cell_type": "code",
   "execution_count": null,
   "id": "f54ec417",
   "metadata": {},
   "outputs": [],
   "source": []
  },
  {
   "cell_type": "code",
   "execution_count": null,
   "id": "e2d875ac",
   "metadata": {},
   "outputs": [],
   "source": []
  },
  {
   "cell_type": "code",
   "execution_count": null,
   "id": "6b5357d4",
   "metadata": {},
   "outputs": [],
   "source": []
  },
  {
   "cell_type": "code",
   "execution_count": null,
   "id": "7946a622",
   "metadata": {},
   "outputs": [],
   "source": []
  },
  {
   "cell_type": "code",
   "execution_count": null,
   "id": "84faece9",
   "metadata": {},
   "outputs": [],
   "source": []
  }
 ],
 "metadata": {
  "kernelspec": {
   "display_name": "Python 3 (ipykernel)",
   "language": "python",
   "name": "python3"
  },
  "language_info": {
   "codemirror_mode": {
    "name": "ipython",
    "version": 3
   },
   "file_extension": ".py",
   "mimetype": "text/x-python",
   "name": "python",
   "nbconvert_exporter": "python",
   "pygments_lexer": "ipython3",
   "version": "3.10.4"
  }
 },
 "nbformat": 4,
 "nbformat_minor": 5
}
